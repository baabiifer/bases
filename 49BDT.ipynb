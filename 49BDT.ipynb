{
 "cells": [
  {
   "cell_type": "code",
   "execution_count": 88,
   "metadata": {},
   "outputs": [],
   "source": [
    "pessoas = spark.read.json(path='/base/pessoas.json')"
   ]
  },
  {
   "cell_type": "code",
   "execution_count": 89,
   "metadata": {},
   "outputs": [
    {
     "data": {
      "text/plain": [
       "DataFrame[age: bigint, id: bigint, name: string]"
      ]
     },
     "execution_count": 89,
     "metadata": {},
     "output_type": "execute_result"
    }
   ],
   "source": [
    "pessoas"
   ]
  },
  {
   "cell_type": "code",
   "execution_count": 90,
   "metadata": {},
   "outputs": [],
   "source": [
    "desc = pessoas.describe()"
   ]
  },
  {
   "cell_type": "code",
   "execution_count": 91,
   "metadata": {},
   "outputs": [],
   "source": [
    "nomes = pessoas.select(\"name\")"
   ]
  },
  {
   "cell_type": "code",
   "execution_count": 92,
   "metadata": {},
   "outputs": [
    {
     "data": {
      "text/plain": [
       "DataFrame[name: string]"
      ]
     },
     "execution_count": 92,
     "metadata": {},
     "output_type": "execute_result"
    }
   ],
   "source": [
    "nomes"
   ]
  },
  {
   "cell_type": "code",
   "execution_count": 93,
   "metadata": {},
   "outputs": [
    {
     "data": {
      "text/plain": [
       "DataFrame[age: bigint, id: bigint, name: string]"
      ]
     },
     "execution_count": 93,
     "metadata": {},
     "output_type": "execute_result"
    }
   ],
   "source": [
    "pessoas"
   ]
  },
  {
   "cell_type": "code",
   "execution_count": 94,
   "metadata": {},
   "outputs": [],
   "source": [
    "df_join = pessoas.join(nomes,pessoas.name == nomes.name)"
   ]
  },
  {
   "cell_type": "code",
   "execution_count": 96,
   "metadata": {},
   "outputs": [
    {
     "name": "stdout",
     "output_type": "stream",
     "text": [
      "+---+---+-------------+-------------+\n",
      "|age| id|         name|         name|\n",
      "+---+---+-------------+-------------+\n",
      "| 28|  1|       Helena|       Helena|\n",
      "| 44|  2|       Miguel|       Miguel|\n",
      "| 97|  3|        Alice|        Alice|\n",
      "| 28|  4|        Laura|        Laura|\n",
      "| 94|  5|      Manuela|      Manuela|\n",
      "| 71|  6|    Valentina|    Valentina|\n",
      "| 48|  7|       Sophia|       Sophia|\n",
      "| 98|  8|     Isabella|     Isabella|\n",
      "| 60|  9|      Heloísa|      Heloísa|\n",
      "| 46| 10|        Luiza|        Luiza|\n",
      "| 47| 11|        Júlia|        Júlia|\n",
      "| 35| 12|       Lorena|       Lorena|\n",
      "| 32| 13|        Lívia|        Lívia|\n",
      "| 90| 14|  Maria Luiza|  Maria Luiza|\n",
      "| 88| 15|      Cecília|      Cecília|\n",
      "| 36| 16|         Eloá|         Eloá|\n",
      "| 57| 17|     Giovanna|     Giovanna|\n",
      "| 75| 18|  Maria Clara|  Maria Clara|\n",
      "| 97| 19|Maria Eduarda|Maria Eduarda|\n",
      "| 65| 20|      Mariana|      Mariana|\n",
      "+---+---+-------------+-------------+\n",
      "only showing top 20 rows\n",
      "\n"
     ]
    }
   ],
   "source": [
    "df_join.show()"
   ]
  },
  {
   "cell_type": "code",
   "execution_count": 97,
   "metadata": {},
   "outputs": [
    {
     "data": {
      "text/plain": [
       "DataFrame[age: bigint, id: bigint, name: string, name: string]"
      ]
     },
     "execution_count": 97,
     "metadata": {},
     "output_type": "execute_result"
    }
   ],
   "source": [
    "df_join.cache()"
   ]
  },
  {
   "cell_type": "code",
   "execution_count": 99,
   "metadata": {},
   "outputs": [
    {
     "name": "stdout",
     "output_type": "stream",
     "text": [
      "+---+---+-------------+-------------+\n",
      "|age| id|         name|         name|\n",
      "+---+---+-------------+-------------+\n",
      "| 28|  1|       Helena|       Helena|\n",
      "| 44|  2|       Miguel|       Miguel|\n",
      "| 97|  3|        Alice|        Alice|\n",
      "| 28|  4|        Laura|        Laura|\n",
      "| 94|  5|      Manuela|      Manuela|\n",
      "| 71|  6|    Valentina|    Valentina|\n",
      "| 48|  7|       Sophia|       Sophia|\n",
      "| 98|  8|     Isabella|     Isabella|\n",
      "| 60|  9|      Heloísa|      Heloísa|\n",
      "| 46| 10|        Luiza|        Luiza|\n",
      "| 47| 11|        Júlia|        Júlia|\n",
      "| 35| 12|       Lorena|       Lorena|\n",
      "| 32| 13|        Lívia|        Lívia|\n",
      "| 90| 14|  Maria Luiza|  Maria Luiza|\n",
      "| 88| 15|      Cecília|      Cecília|\n",
      "| 36| 16|         Eloá|         Eloá|\n",
      "| 57| 17|     Giovanna|     Giovanna|\n",
      "| 75| 18|  Maria Clara|  Maria Clara|\n",
      "| 97| 19|Maria Eduarda|Maria Eduarda|\n",
      "| 65| 20|      Mariana|      Mariana|\n",
      "+---+---+-------------+-------------+\n",
      "only showing top 20 rows\n",
      "\n"
     ]
    }
   ],
   "source": [
    "df_join.show()"
   ]
  },
  {
   "cell_type": "code",
   "execution_count": 60,
   "metadata": {},
   "outputs": [
    {
     "data": {
      "text/plain": [
       "DataFrame[name: string]"
      ]
     },
     "execution_count": 60,
     "metadata": {},
     "output_type": "execute_result"
    }
   ],
   "source": [
    "nomes"
   ]
  },
  {
   "cell_type": "code",
   "execution_count": 61,
   "metadata": {},
   "outputs": [
    {
     "data": {
      "text/plain": [
       "DataFrame[age: bigint, id: bigint, name: string, name: string]"
      ]
     },
     "execution_count": 61,
     "metadata": {},
     "output_type": "execute_result"
    }
   ],
   "source": [
    "df_join"
   ]
  },
  {
   "cell_type": "code",
   "execution_count": 74,
   "metadata": {},
   "outputs": [
    {
     "name": "stdout",
     "output_type": "stream",
     "text": [
      "+---------+\n",
      "|     name|\n",
      "+---------+\n",
      "|   Agatha|\n",
      "|    Alice|\n",
      "|   Alícia|\n",
      "|Ana Clara|\n",
      "|Ana Júlia|\n",
      "+---------+\n",
      "only showing top 5 rows\n",
      "\n"
     ]
    }
   ],
   "source": [
    "pessoas.where(pessoas.age > 18).select(\"name\").orderBy('name').show(5)"
   ]
  },
  {
   "cell_type": "code",
   "execution_count": 68,
   "metadata": {},
   "outputs": [],
   "source": [
    "pessoas.registerTempTable('tab')"
   ]
  },
  {
   "cell_type": "code",
   "execution_count": 75,
   "metadata": {},
   "outputs": [
    {
     "name": "stdout",
     "output_type": "stream",
     "text": [
      "+---------+\n",
      "|     name|\n",
      "+---------+\n",
      "|   Agatha|\n",
      "|    Alice|\n",
      "|   Alícia|\n",
      "|Ana Clara|\n",
      "|Ana Júlia|\n",
      "+---------+\n",
      "only showing top 5 rows\n",
      "\n"
     ]
    }
   ],
   "source": [
    "spark.sql('select name from tab where age > 18 order by name').show(5)"
   ]
  },
  {
   "cell_type": "code",
   "execution_count": 82,
   "metadata": {},
   "outputs": [
    {
     "name": "stdout",
     "output_type": "stream",
     "text": [
      "+--------+\n",
      "|count(1)|\n",
      "+--------+\n",
      "|  600050|\n",
      "+--------+\n",
      "\n"
     ]
    }
   ],
   "source": [
    "spark.sql('select count(*) from aula.employees').show()"
   ]
  },
  {
   "cell_type": "code",
   "execution_count": 7,
   "metadata": {},
   "outputs": [],
   "source": [
    "base = spark.read.csv(\"/base/base.csv\",header=True)"
   ]
  },
  {
   "cell_type": "code",
   "execution_count": 8,
   "metadata": {},
   "outputs": [
    {
     "data": {
      "text/plain": [
       "pyspark.sql.dataframe.DataFrame"
      ]
     },
     "execution_count": 8,
     "metadata": {},
     "output_type": "execute_result"
    }
   ],
   "source": [
    "type(base)"
   ]
  },
  {
   "cell_type": "code",
   "execution_count": 9,
   "metadata": {},
   "outputs": [
    {
     "name": "stdout",
     "output_type": "stream",
     "text": [
      "+-------+----+---------+\n",
      "|usuario|item|avaliacao|\n",
      "+-------+----+---------+\n",
      "|    109|   9|        3|\n",
      "|    174| 412|        1|\n",
      "|      7| 208|        5|\n",
      "|    371|  97|        5|\n",
      "|    296| 255|        2|\n",
      "|    280|  82|        2|\n",
      "|    271| 275|        4|\n",
      "|    110| 791|        2|\n",
      "|     59| 926|        1|\n",
      "|    217| 576|        1|\n",
      "|    145| 665|        5|\n",
      "|    334| 204|        4|\n",
      "|     42| 568|        4|\n",
      "|    200| 143|        5|\n",
      "|     89| 387|        5|\n",
      "|    311| 588|        4|\n",
      "|    235| 269|        4|\n",
      "|    287| 156|        5|\n",
      "|    344| 204|        4|\n",
      "|     43| 289|        4|\n",
      "+-------+----+---------+\n",
      "only showing top 20 rows\n",
      "\n"
     ]
    }
   ],
   "source": [
    "base.show()"
   ]
  },
  {
   "cell_type": "code",
   "execution_count": 11,
   "metadata": {},
   "outputs": [],
   "source": [
    "results = spark.read.csv(\"/base/results.csv\",header=True)"
   ]
  },
  {
   "cell_type": "code",
   "execution_count": 12,
   "metadata": {},
   "outputs": [
    {
     "name": "stdout",
     "output_type": "stream",
     "text": [
      "+----------+----------------+---------+----------+----------+----------+---------+-------------------+-------+\n",
      "|      date|       home_team|away_team|home_score|away_score|tournament|     city|            country|neutral|\n",
      "+----------+----------------+---------+----------+----------+----------+---------+-------------------+-------+\n",
      "|1872-11-30|        Scotland|  England|         0|         0|  Friendly|  Glasgow|           Scotland|  FALSE|\n",
      "|1873-03-08|         England| Scotland|         4|         2|  Friendly|   London|            England|  FALSE|\n",
      "|1874-03-07|        Scotland|  England|         2|         1|  Friendly|  Glasgow|           Scotland|  FALSE|\n",
      "|1875-03-06|         England| Scotland|         2|         2|  Friendly|   London|            England|  FALSE|\n",
      "|1876-03-04|        Scotland|  England|         3|         0|  Friendly|  Glasgow|           Scotland|  FALSE|\n",
      "|1876-03-25|        Scotland|    Wales|         4|         0|  Friendly|  Glasgow|           Scotland|  FALSE|\n",
      "|1877-03-03|         England| Scotland|         1|         3|  Friendly|   London|            England|  FALSE|\n",
      "|1877-03-05|           Wales| Scotland|         0|         2|  Friendly|  Wrexham|              Wales|  FALSE|\n",
      "|1878-03-02|        Scotland|  England|         7|         2|  Friendly|  Glasgow|           Scotland|  FALSE|\n",
      "|1878-03-23|        Scotland|    Wales|         9|         0|  Friendly|  Glasgow|           Scotland|  FALSE|\n",
      "|1879-01-18|         England|    Wales|         2|         1|  Friendly|   London|            England|  FALSE|\n",
      "|1879-04-05|         England| Scotland|         5|         4|  Friendly|   London|            England|  FALSE|\n",
      "|1879-04-07|           Wales| Scotland|         0|         3|  Friendly|  Wrexham|              Wales|  FALSE|\n",
      "|1880-03-13|        Scotland|  England|         5|         4|  Friendly|  Glasgow|           Scotland|  FALSE|\n",
      "|1880-03-15|           Wales|  England|         2|         3|  Friendly|  Wrexham|              Wales|  FALSE|\n",
      "|1880-03-27|        Scotland|    Wales|         5|         1|  Friendly|  Glasgow|           Scotland|  FALSE|\n",
      "|1881-02-26|         England|    Wales|         0|         1|  Friendly|Blackburn|            England|  FALSE|\n",
      "|1881-03-12|         England| Scotland|         1|         6|  Friendly|   London|            England|  FALSE|\n",
      "|1881-03-14|           Wales| Scotland|         1|         5|  Friendly|  Wrexham|              Wales|  FALSE|\n",
      "|1882-02-18|Northern Ireland|  England|         0|        13|  Friendly|  Belfast|Republic of Ireland|  FALSE|\n",
      "+----------+----------------+---------+----------+----------+----------+---------+-------------------+-------+\n",
      "only showing top 20 rows\n",
      "\n"
     ]
    }
   ],
   "source": [
    "results.show()"
   ]
  },
  {
   "cell_type": "code",
   "execution_count": 13,
   "metadata": {},
   "outputs": [
    {
     "data": {
      "text/plain": [
       "40839"
      ]
     },
     "execution_count": 13,
     "metadata": {},
     "output_type": "execute_result"
    }
   ],
   "source": [
    "results.count()"
   ]
  },
  {
   "cell_type": "code",
   "execution_count": 16,
   "metadata": {},
   "outputs": [
    {
     "name": "stdout",
     "output_type": "stream",
     "text": [
      "+-------+----------+-------------+-------------+------------------+------------------+---------------+-------------------+-----------+-------+\n",
      "|summary|      date|    home_team|    away_team|        home_score|        away_score|     tournament|               city|    country|neutral|\n",
      "+-------+----------+-------------+-------------+------------------+------------------+---------------+-------------------+-----------+-------+\n",
      "|  count|     40839|        40839|        40839|             40839|             40839|          40839|              40839|      40839|  40839|\n",
      "|   mean|      null|         null|         null|1.7457087587844953| 1.188104507945836|           null|               null|       null|   null|\n",
      "| stddev|      null|         null|         null| 1.749144918253105|1.4051198000976632|           null|               null|       null|   null|\n",
      "|    min|1872-11-30|     Abkhazia|     Abkhazia|                 0|                 0|ABCS Tournament|6th of October City|Afghanistan|  FALSE|\n",
      "|    max|2019-07-20|Åland Islands|Åland Islands|                 9|                 9|World Unity Cup|             ‘Atele|       Éire|   TRUE|\n",
      "+-------+----------+-------------+-------------+------------------+------------------+---------------+-------------------+-----------+-------+\n",
      "\n"
     ]
    }
   ],
   "source": [
    "results.describe().show()"
   ]
  },
  {
   "cell_type": "code",
   "execution_count": 17,
   "metadata": {},
   "outputs": [
    {
     "name": "stdout",
     "output_type": "stream",
     "text": [
      "+----------+----------------+---------+----------+----------+----------+---------+-------------------+-------+\n",
      "|      date|       home_team|away_team|home_score|away_score|tournament|     city|            country|neutral|\n",
      "+----------+----------------+---------+----------+----------+----------+---------+-------------------+-------+\n",
      "|1872-11-30|        Scotland|  England|         0|         0|  Friendly|  Glasgow|           Scotland|  FALSE|\n",
      "|1873-03-08|         England| Scotland|         4|         2|  Friendly|   London|            England|  FALSE|\n",
      "|1874-03-07|        Scotland|  England|         2|         1|  Friendly|  Glasgow|           Scotland|  FALSE|\n",
      "|1875-03-06|         England| Scotland|         2|         2|  Friendly|   London|            England|  FALSE|\n",
      "|1876-03-04|        Scotland|  England|         3|         0|  Friendly|  Glasgow|           Scotland|  FALSE|\n",
      "|1876-03-25|        Scotland|    Wales|         4|         0|  Friendly|  Glasgow|           Scotland|  FALSE|\n",
      "|1877-03-03|         England| Scotland|         1|         3|  Friendly|   London|            England|  FALSE|\n",
      "|1877-03-05|           Wales| Scotland|         0|         2|  Friendly|  Wrexham|              Wales|  FALSE|\n",
      "|1878-03-02|        Scotland|  England|         7|         2|  Friendly|  Glasgow|           Scotland|  FALSE|\n",
      "|1878-03-23|        Scotland|    Wales|         9|         0|  Friendly|  Glasgow|           Scotland|  FALSE|\n",
      "|1879-01-18|         England|    Wales|         2|         1|  Friendly|   London|            England|  FALSE|\n",
      "|1879-04-05|         England| Scotland|         5|         4|  Friendly|   London|            England|  FALSE|\n",
      "|1879-04-07|           Wales| Scotland|         0|         3|  Friendly|  Wrexham|              Wales|  FALSE|\n",
      "|1880-03-13|        Scotland|  England|         5|         4|  Friendly|  Glasgow|           Scotland|  FALSE|\n",
      "|1880-03-15|           Wales|  England|         2|         3|  Friendly|  Wrexham|              Wales|  FALSE|\n",
      "|1880-03-27|        Scotland|    Wales|         5|         1|  Friendly|  Glasgow|           Scotland|  FALSE|\n",
      "|1881-02-26|         England|    Wales|         0|         1|  Friendly|Blackburn|            England|  FALSE|\n",
      "|1881-03-12|         England| Scotland|         1|         6|  Friendly|   London|            England|  FALSE|\n",
      "|1881-03-14|           Wales| Scotland|         1|         5|  Friendly|  Wrexham|              Wales|  FALSE|\n",
      "|1882-02-18|Northern Ireland|  England|         0|        13|  Friendly|  Belfast|Republic of Ireland|  FALSE|\n",
      "+----------+----------------+---------+----------+----------+----------+---------+-------------------+-------+\n",
      "only showing top 20 rows\n",
      "\n"
     ]
    }
   ],
   "source": [
    "results.show()"
   ]
  },
  {
   "cell_type": "code",
   "execution_count": 19,
   "metadata": {},
   "outputs": [
    {
     "name": "stdout",
     "output_type": "stream",
     "text": [
      "+----------+---------+---------+----------+----------+------------+--------------+---------+-------+\n",
      "|      date|home_team|away_team|home_score|away_score|  tournament|          city|  country|neutral|\n",
      "+----------+---------+---------+----------+----------+------------+--------------+---------+-------+\n",
      "|1916-07-08|   Brazil|    Chile|         1|         1|Copa América|  Buenos Aires|Argentina|   TRUE|\n",
      "|1916-07-12|   Brazil|  Uruguay|         1|         2|Copa América|  Buenos Aires|Argentina|   TRUE|\n",
      "|1917-10-12|   Brazil|    Chile|         5|         0|Copa América|    Montevideo|  Uruguay|   TRUE|\n",
      "|1919-05-11|   Brazil|    Chile|         6|         0|Copa América|Rio de Janeiro|   Brazil|  FALSE|\n",
      "|1919-05-18|   Brazil|Argentina|         3|         1|Copa América|Rio de Janeiro|   Brazil|  FALSE|\n",
      "|1919-05-26|   Brazil|  Uruguay|         2|         2|Copa América|Rio de Janeiro|   Brazil|  FALSE|\n",
      "|1919-05-29|   Brazil|  Uruguay|         1|         0|Copa América|Rio de Janeiro|   Brazil|  FALSE|\n",
      "|1919-06-01|   Brazil|Argentina|         3|         3|    Friendly|Rio de Janeiro|   Brazil|  FALSE|\n",
      "|1920-09-18|   Brazil|  Uruguay|         0|         6|Copa América|  Viña del Mar|    Chile|   TRUE|\n",
      "|1921-10-12|   Brazil| Paraguay|         3|         0|Copa América|  Buenos Aires|Argentina|   TRUE|\n",
      "|1921-10-23|   Brazil|  Uruguay|         1|         2|Copa América|  Buenos Aires|Argentina|   TRUE|\n",
      "|1922-09-17|   Brazil|    Chile|         1|         1|Copa América|Rio de Janeiro|   Brazil|  FALSE|\n",
      "|1922-09-24|   Brazil| Paraguay|         1|         1|Copa América|Rio de Janeiro|   Brazil|  FALSE|\n",
      "|1922-10-01|   Brazil|  Uruguay|         0|         0|Copa América|Rio de Janeiro|   Brazil|  FALSE|\n",
      "|1922-10-15|   Brazil|Argentina|         2|         0|Copa América|Rio de Janeiro|   Brazil|  FALSE|\n",
      "|1922-10-22|   Brazil| Paraguay|         3|         0|Copa América|Rio de Janeiro|   Brazil|  FALSE|\n",
      "|1922-10-22|   Brazil|Argentina|         2|         1|   Copa Roca|     São Paulo|   Brazil|  FALSE|\n",
      "|1922-10-29|   Brazil| Paraguay|         3|         1|    Friendly|     São Paulo|   Brazil|  FALSE|\n",
      "|1923-11-11|   Brazil| Paraguay|         0|         1|Copa América|    Montevideo|  Uruguay|   TRUE|\n",
      "|1923-11-22|   Brazil| Paraguay|         2|         0|    Friendly|    Montevideo|  Uruguay|   TRUE|\n",
      "+----------+---------+---------+----------+----------+------------+--------------+---------+-------+\n",
      "only showing top 20 rows\n",
      "\n"
     ]
    }
   ],
   "source": [
    "results.filter(results.home_team == 'Brazil').show()"
   ]
  },
  {
   "cell_type": "code",
   "execution_count": 21,
   "metadata": {},
   "outputs": [
    {
     "name": "stdout",
     "output_type": "stream",
     "text": [
      "+----------+---------+-------------+----------+----------+---------------+--------------+---------+-------+\n",
      "|      date|home_team|    away_team|home_score|away_score|     tournament|          city|  country|neutral|\n",
      "+----------+---------+-------------+----------+----------+---------------+--------------+---------+-------+\n",
      "|1917-10-12|   Brazil|        Chile|         5|         0|   Copa América|    Montevideo|  Uruguay|   TRUE|\n",
      "|1919-05-11|   Brazil|        Chile|         6|         0|   Copa América|Rio de Janeiro|   Brazil|  FALSE|\n",
      "|1919-05-18|   Brazil|    Argentina|         3|         1|   Copa América|Rio de Janeiro|   Brazil|  FALSE|\n",
      "|1919-05-29|   Brazil|      Uruguay|         1|         0|   Copa América|Rio de Janeiro|   Brazil|  FALSE|\n",
      "|1921-10-12|   Brazil|     Paraguay|         3|         0|   Copa América|  Buenos Aires|Argentina|   TRUE|\n",
      "|1922-10-15|   Brazil|    Argentina|         2|         0|   Copa América|Rio de Janeiro|   Brazil|  FALSE|\n",
      "|1922-10-22|   Brazil|     Paraguay|         3|         0|   Copa América|Rio de Janeiro|   Brazil|  FALSE|\n",
      "|1922-10-22|   Brazil|    Argentina|         2|         1|      Copa Roca|     São Paulo|   Brazil|  FALSE|\n",
      "|1922-10-29|   Brazil|     Paraguay|         3|         1|       Friendly|     São Paulo|   Brazil|  FALSE|\n",
      "|1923-11-22|   Brazil|     Paraguay|         2|         0|       Friendly|    Montevideo|  Uruguay|   TRUE|\n",
      "|1925-12-06|   Brazil|     Paraguay|         5|         2|   Copa América|  Buenos Aires|Argentina|   TRUE|\n",
      "|1925-12-17|   Brazil|     Paraguay|         3|         1|   Copa América|  Buenos Aires|Argentina|   TRUE|\n",
      "|1930-08-01|   Brazil|       France|         3|         2|       Friendly|Rio de Janeiro|   Brazil|  FALSE|\n",
      "|1930-08-10|   Brazil|   Yugoslavia|         4|         1|       Friendly|Rio de Janeiro|   Brazil|  FALSE|\n",
      "|1930-08-17|   Brazil|United States|         4|         3|       Friendly|Rio de Janeiro|   Brazil|  FALSE|\n",
      "|1931-09-06|   Brazil|      Uruguay|         2|         0|Copa Rio Branco|Rio de Janeiro|   Brazil|  FALSE|\n",
      "|1936-12-27|   Brazil|         Peru|         3|         2|   Copa América|  Buenos Aires|Argentina|   TRUE|\n",
      "|1937-01-03|   Brazil|        Chile|         6|         4|   Copa América|  Buenos Aires|Argentina|   TRUE|\n",
      "|1937-01-13|   Brazil|     Paraguay|         5|         0|   Copa América|  Buenos Aires|Argentina|   TRUE|\n",
      "|1937-01-19|   Brazil|      Uruguay|         3|         2|   Copa América|  Buenos Aires|Argentina|   TRUE|\n",
      "+----------+---------+-------------+----------+----------+---------------+--------------+---------+-------+\n",
      "only showing top 20 rows\n",
      "\n"
     ]
    }
   ],
   "source": [
    "results.filter(results.home_team == 'Brazil').filter(results.home_score > results.away_score).show()"
   ]
  },
  {
   "cell_type": "code",
   "execution_count": 27,
   "metadata": {},
   "outputs": [
    {
     "name": "stdout",
     "output_type": "stream",
     "text": [
      "+--------------------+\n",
      "|          tournament|\n",
      "+--------------------+\n",
      "|        Atlantic Cup|\n",
      "|Brazil Independen...|\n",
      "|  Confederations Cup|\n",
      "|        Copa América|\n",
      "|Copa Bernardo O'H...|\n",
      "|   Copa Oswaldo Cruz|\n",
      "|     Copa Rio Branco|\n",
      "|           Copa Roca|\n",
      "|      FIFA World Cup|\n",
      "|FIFA World Cup qu...|\n",
      "|            Friendly|\n",
      "|            Gold Cup|\n",
      "|          Mundialito|\n",
      "|Pan American Cham...|\n",
      "+--------------------+\n",
      "\n"
     ]
    }
   ],
   "source": [
    "results.filter(results.home_team == 'Brazil') \\\n",
    "    .filter(results.home_score > results.away_score) \\\n",
    "    .select(results.tournament).distinct().orderBy('tournament').show()"
   ]
  },
  {
   "cell_type": "code",
   "execution_count": 45,
   "metadata": {},
   "outputs": [],
   "source": [
    "derrotas_brasil = results.where(results.country == 'Brazil') \\\n",
    "    .where(results.home_team == 'Brazil') \\\n",
    "    .where(results.home_score < results.away_score) \\\n",
    "    .orderBy('away_score',ascending=False) "
   ]
  },
  {
   "cell_type": "code",
   "execution_count": 49,
   "metadata": {},
   "outputs": [],
   "source": [
    "derrotas_brasil = derrotas_brasil.select('date','home_team','away_team','home_score','away_score','tournament','city','country')"
   ]
  },
  {
   "cell_type": "code",
   "execution_count": 50,
   "metadata": {},
   "outputs": [
    {
     "name": "stdout",
     "output_type": "stream",
     "text": [
      "+----------+---------+--------------+----------+----------+---------------+--------------+-------+\n",
      "|      date|home_team|     away_team|home_score|away_score|     tournament|          city|country|\n",
      "+----------+---------+--------------+----------+----------+---------------+--------------+-------+\n",
      "|2014-07-08|   Brazil|       Germany|         1|         7| FIFA World Cup|Belo Horizonte| Brazil|\n",
      "|1939-01-15|   Brazil|     Argentina|         1|         5|      Copa Roca|Rio de Janeiro| Brazil|\n",
      "|1940-03-24|   Brazil|       Uruguay|         3|         4|Copa Rio Branco|Rio de Janeiro| Brazil|\n",
      "|1945-12-16|   Brazil|     Argentina|         3|         4|      Copa Roca|     São Paulo| Brazil|\n",
      "|1950-05-06|   Brazil|       Uruguay|         3|         4|Copa Rio Branco|     São Paulo| Brazil|\n",
      "|1940-02-25|   Brazil|     Argentina|         0|         3|      Copa Roca|     São Paulo| Brazil|\n",
      "|2014-07-12|   Brazil|   Netherlands|         0|         3| FIFA World Cup|      Brasília| Brazil|\n",
      "|1963-04-13|   Brazil|     Argentina|         2|         3|      Copa Roca|     São Paulo| Brazil|\n",
      "|1975-09-30|   Brazil|          Peru|         1|         3|   Copa América|Belo Horizonte| Brazil|\n",
      "|1964-06-03|   Brazil|     Argentina|         0|         3|       Friendly|     São Paulo| Brazil|\n",
      "|1950-07-16|   Brazil|       Uruguay|         1|         2| FIFA World Cup|Rio de Janeiro| Brazil|\n",
      "|1980-06-15|   Brazil|        Russia|         1|         2|       Friendly|Rio de Janeiro| Brazil|\n",
      "|1957-07-07|   Brazil|     Argentina|         1|         2|      Copa Roca|Rio de Janeiro| Brazil|\n",
      "|1968-10-31|   Brazil|        Mexico|         1|         2|       Friendly|Rio de Janeiro| Brazil|\n",
      "|1984-06-10|   Brazil|       England|         0|         2|       Friendly|Rio de Janeiro| Brazil|\n",
      "|1949-05-08|   Brazil|      Paraguay|         1|         2|   Copa América|Rio de Janeiro| Brazil|\n",
      "|1970-03-04|   Brazil|     Argentina|         0|         2|       Friendly|  Porto Alegre| Brazil|\n",
      "|1992-11-25|   Brazil|       Uruguay|         1|         2|       Friendly|Campina Grande| Brazil|\n",
      "|1956-08-05|   Brazil|Czechoslovakia|         0|         1|       Friendly|Rio de Janeiro| Brazil|\n",
      "|1985-04-28|   Brazil|          Peru|         0|         1|       Friendly|      Brasília| Brazil|\n",
      "+----------+---------+--------------+----------+----------+---------------+--------------+-------+\n",
      "only showing top 20 rows\n",
      "\n"
     ]
    }
   ],
   "source": [
    "derrotas_brasil.show()"
   ]
  },
  {
   "cell_type": "code",
   "execution_count": 55,
   "metadata": {},
   "outputs": [],
   "source": [
    "derrotas_brasil.repartition(1).write.csv('/base/analise/derrotas_brasil',mode='overwrite',header=True)"
   ]
  },
  {
   "cell_type": "code",
   "execution_count": 56,
   "metadata": {},
   "outputs": [],
   "source": [
    "results.registerTempTable('partidas')"
   ]
  },
  {
   "cell_type": "code",
   "execution_count": 57,
   "metadata": {},
   "outputs": [
    {
     "name": "stdout",
     "output_type": "stream",
     "text": [
      "+----------+----------------+---------+----------+----------+----------+---------+-------------------+-------+\n",
      "|      date|       home_team|away_team|home_score|away_score|tournament|     city|            country|neutral|\n",
      "+----------+----------------+---------+----------+----------+----------+---------+-------------------+-------+\n",
      "|1872-11-30|        Scotland|  England|         0|         0|  Friendly|  Glasgow|           Scotland|  FALSE|\n",
      "|1873-03-08|         England| Scotland|         4|         2|  Friendly|   London|            England|  FALSE|\n",
      "|1874-03-07|        Scotland|  England|         2|         1|  Friendly|  Glasgow|           Scotland|  FALSE|\n",
      "|1875-03-06|         England| Scotland|         2|         2|  Friendly|   London|            England|  FALSE|\n",
      "|1876-03-04|        Scotland|  England|         3|         0|  Friendly|  Glasgow|           Scotland|  FALSE|\n",
      "|1876-03-25|        Scotland|    Wales|         4|         0|  Friendly|  Glasgow|           Scotland|  FALSE|\n",
      "|1877-03-03|         England| Scotland|         1|         3|  Friendly|   London|            England|  FALSE|\n",
      "|1877-03-05|           Wales| Scotland|         0|         2|  Friendly|  Wrexham|              Wales|  FALSE|\n",
      "|1878-03-02|        Scotland|  England|         7|         2|  Friendly|  Glasgow|           Scotland|  FALSE|\n",
      "|1878-03-23|        Scotland|    Wales|         9|         0|  Friendly|  Glasgow|           Scotland|  FALSE|\n",
      "|1879-01-18|         England|    Wales|         2|         1|  Friendly|   London|            England|  FALSE|\n",
      "|1879-04-05|         England| Scotland|         5|         4|  Friendly|   London|            England|  FALSE|\n",
      "|1879-04-07|           Wales| Scotland|         0|         3|  Friendly|  Wrexham|              Wales|  FALSE|\n",
      "|1880-03-13|        Scotland|  England|         5|         4|  Friendly|  Glasgow|           Scotland|  FALSE|\n",
      "|1880-03-15|           Wales|  England|         2|         3|  Friendly|  Wrexham|              Wales|  FALSE|\n",
      "|1880-03-27|        Scotland|    Wales|         5|         1|  Friendly|  Glasgow|           Scotland|  FALSE|\n",
      "|1881-02-26|         England|    Wales|         0|         1|  Friendly|Blackburn|            England|  FALSE|\n",
      "|1881-03-12|         England| Scotland|         1|         6|  Friendly|   London|            England|  FALSE|\n",
      "|1881-03-14|           Wales| Scotland|         1|         5|  Friendly|  Wrexham|              Wales|  FALSE|\n",
      "|1882-02-18|Northern Ireland|  England|         0|        13|  Friendly|  Belfast|Republic of Ireland|  FALSE|\n",
      "+----------+----------------+---------+----------+----------+----------+---------+-------------------+-------+\n",
      "only showing top 20 rows\n",
      "\n"
     ]
    }
   ],
   "source": [
    "spark.sql('select * from partidas').show()"
   ]
  },
  {
   "cell_type": "code",
   "execution_count": 58,
   "metadata": {},
   "outputs": [
    {
     "name": "stdout",
     "output_type": "stream",
     "text": [
      "+----------+---------+---------+----------+----------+------------+--------------+---------+-------+\n",
      "|      date|home_team|away_team|home_score|away_score|  tournament|          city|  country|neutral|\n",
      "+----------+---------+---------+----------+----------+------------+--------------+---------+-------+\n",
      "|1916-07-08|   Brazil|    Chile|         1|         1|Copa América|  Buenos Aires|Argentina|   TRUE|\n",
      "|1916-07-12|   Brazil|  Uruguay|         1|         2|Copa América|  Buenos Aires|Argentina|   TRUE|\n",
      "|1917-10-12|   Brazil|    Chile|         5|         0|Copa América|    Montevideo|  Uruguay|   TRUE|\n",
      "|1919-05-11|   Brazil|    Chile|         6|         0|Copa América|Rio de Janeiro|   Brazil|  FALSE|\n",
      "|1919-05-18|   Brazil|Argentina|         3|         1|Copa América|Rio de Janeiro|   Brazil|  FALSE|\n",
      "|1919-05-26|   Brazil|  Uruguay|         2|         2|Copa América|Rio de Janeiro|   Brazil|  FALSE|\n",
      "|1919-05-29|   Brazil|  Uruguay|         1|         0|Copa América|Rio de Janeiro|   Brazil|  FALSE|\n",
      "|1919-06-01|   Brazil|Argentina|         3|         3|    Friendly|Rio de Janeiro|   Brazil|  FALSE|\n",
      "|1920-09-18|   Brazil|  Uruguay|         0|         6|Copa América|  Viña del Mar|    Chile|   TRUE|\n",
      "|1921-10-12|   Brazil| Paraguay|         3|         0|Copa América|  Buenos Aires|Argentina|   TRUE|\n",
      "|1921-10-23|   Brazil|  Uruguay|         1|         2|Copa América|  Buenos Aires|Argentina|   TRUE|\n",
      "|1922-09-17|   Brazil|    Chile|         1|         1|Copa América|Rio de Janeiro|   Brazil|  FALSE|\n",
      "|1922-09-24|   Brazil| Paraguay|         1|         1|Copa América|Rio de Janeiro|   Brazil|  FALSE|\n",
      "|1922-10-01|   Brazil|  Uruguay|         0|         0|Copa América|Rio de Janeiro|   Brazil|  FALSE|\n",
      "|1922-10-15|   Brazil|Argentina|         2|         0|Copa América|Rio de Janeiro|   Brazil|  FALSE|\n",
      "|1922-10-22|   Brazil| Paraguay|         3|         0|Copa América|Rio de Janeiro|   Brazil|  FALSE|\n",
      "|1922-10-22|   Brazil|Argentina|         2|         1|   Copa Roca|     São Paulo|   Brazil|  FALSE|\n",
      "|1922-10-29|   Brazil| Paraguay|         3|         1|    Friendly|     São Paulo|   Brazil|  FALSE|\n",
      "|1923-11-11|   Brazil| Paraguay|         0|         1|Copa América|    Montevideo|  Uruguay|   TRUE|\n",
      "|1923-11-22|   Brazil| Paraguay|         2|         0|    Friendly|    Montevideo|  Uruguay|   TRUE|\n",
      "+----------+---------+---------+----------+----------+------------+--------------+---------+-------+\n",
      "only showing top 20 rows\n",
      "\n"
     ]
    }
   ],
   "source": [
    "spark.sql('select * from partidas where home_team = \"Brazil\"').show()"
   ]
  },
  {
   "cell_type": "code",
   "execution_count": 63,
   "metadata": {},
   "outputs": [
    {
     "name": "stdout",
     "output_type": "stream",
     "text": [
      "+----------+---------+--------------+----------+----------+---------------+--------------+-------+-------+\n",
      "|      date|home_team|     away_team|home_score|away_score|     tournament|          city|country|neutral|\n",
      "+----------+---------+--------------+----------+----------+---------------+--------------+-------+-------+\n",
      "|2014-07-08|   Brazil|       Germany|         1|         7| FIFA World Cup|Belo Horizonte| Brazil|  FALSE|\n",
      "|1939-01-15|   Brazil|     Argentina|         1|         5|      Copa Roca|Rio de Janeiro| Brazil|  FALSE|\n",
      "|1940-03-24|   Brazil|       Uruguay|         3|         4|Copa Rio Branco|Rio de Janeiro| Brazil|  FALSE|\n",
      "|1945-12-16|   Brazil|     Argentina|         3|         4|      Copa Roca|     São Paulo| Brazil|  FALSE|\n",
      "|1950-05-06|   Brazil|       Uruguay|         3|         4|Copa Rio Branco|     São Paulo| Brazil|  FALSE|\n",
      "|1940-02-25|   Brazil|     Argentina|         0|         3|      Copa Roca|     São Paulo| Brazil|  FALSE|\n",
      "|2014-07-12|   Brazil|   Netherlands|         0|         3| FIFA World Cup|      Brasília| Brazil|  FALSE|\n",
      "|1963-04-13|   Brazil|     Argentina|         2|         3|      Copa Roca|     São Paulo| Brazil|  FALSE|\n",
      "|1975-09-30|   Brazil|          Peru|         1|         3|   Copa América|Belo Horizonte| Brazil|  FALSE|\n",
      "|1964-06-03|   Brazil|     Argentina|         0|         3|       Friendly|     São Paulo| Brazil|  FALSE|\n",
      "|1950-07-16|   Brazil|       Uruguay|         1|         2| FIFA World Cup|Rio de Janeiro| Brazil|  FALSE|\n",
      "|1980-06-15|   Brazil|        Russia|         1|         2|       Friendly|Rio de Janeiro| Brazil|  FALSE|\n",
      "|1957-07-07|   Brazil|     Argentina|         1|         2|      Copa Roca|Rio de Janeiro| Brazil|  FALSE|\n",
      "|1968-10-31|   Brazil|        Mexico|         1|         2|       Friendly|Rio de Janeiro| Brazil|  FALSE|\n",
      "|1984-06-10|   Brazil|       England|         0|         2|       Friendly|Rio de Janeiro| Brazil|  FALSE|\n",
      "|1949-05-08|   Brazil|      Paraguay|         1|         2|   Copa América|Rio de Janeiro| Brazil|  FALSE|\n",
      "|1970-03-04|   Brazil|     Argentina|         0|         2|       Friendly|  Porto Alegre| Brazil|  FALSE|\n",
      "|1992-11-25|   Brazil|       Uruguay|         1|         2|       Friendly|Campina Grande| Brazil|  FALSE|\n",
      "|1956-08-05|   Brazil|Czechoslovakia|         0|         1|       Friendly|Rio de Janeiro| Brazil|  FALSE|\n",
      "|1985-04-28|   Brazil|          Peru|         0|         1|       Friendly|      Brasília| Brazil|  FALSE|\n",
      "+----------+---------+--------------+----------+----------+---------------+--------------+-------+-------+\n",
      "only showing top 20 rows\n",
      "\n"
     ]
    }
   ],
   "source": [
    "spark.sql('select * \\\n",
    "          from partidas \\\n",
    "          where home_team = \"Brazil\" and away_score > home_score and country = \"Brazil\"\\\n",
    "          order by away_score desc').show()"
   ]
  },
  {
   "cell_type": "code",
   "execution_count": 64,
   "metadata": {},
   "outputs": [
    {
     "name": "stdout",
     "output_type": "stream",
     "text": [
      "+----------+---------+--------------+----------+----------+---------------+--------------+-------+-------+\n",
      "|      date|home_team|     away_team|home_score|away_score|     tournament|          city|country|neutral|\n",
      "+----------+---------+--------------+----------+----------+---------------+--------------+-------+-------+\n",
      "|2014-07-08|   Brazil|       Germany|         1|         7| FIFA World Cup|Belo Horizonte| Brazil|  FALSE|\n",
      "|1939-01-15|   Brazil|     Argentina|         1|         5|      Copa Roca|Rio de Janeiro| Brazil|  FALSE|\n",
      "|1940-03-24|   Brazil|       Uruguay|         3|         4|Copa Rio Branco|Rio de Janeiro| Brazil|  FALSE|\n",
      "|1945-12-16|   Brazil|     Argentina|         3|         4|      Copa Roca|     São Paulo| Brazil|  FALSE|\n",
      "|1950-05-06|   Brazil|       Uruguay|         3|         4|Copa Rio Branco|     São Paulo| Brazil|  FALSE|\n",
      "|1940-02-25|   Brazil|     Argentina|         0|         3|      Copa Roca|     São Paulo| Brazil|  FALSE|\n",
      "|2014-07-12|   Brazil|   Netherlands|         0|         3| FIFA World Cup|      Brasília| Brazil|  FALSE|\n",
      "|1963-04-13|   Brazil|     Argentina|         2|         3|      Copa Roca|     São Paulo| Brazil|  FALSE|\n",
      "|1975-09-30|   Brazil|          Peru|         1|         3|   Copa América|Belo Horizonte| Brazil|  FALSE|\n",
      "|1964-06-03|   Brazil|     Argentina|         0|         3|       Friendly|     São Paulo| Brazil|  FALSE|\n",
      "|1950-07-16|   Brazil|       Uruguay|         1|         2| FIFA World Cup|Rio de Janeiro| Brazil|  FALSE|\n",
      "|1980-06-15|   Brazil|        Russia|         1|         2|       Friendly|Rio de Janeiro| Brazil|  FALSE|\n",
      "|1957-07-07|   Brazil|     Argentina|         1|         2|      Copa Roca|Rio de Janeiro| Brazil|  FALSE|\n",
      "|1968-10-31|   Brazil|        Mexico|         1|         2|       Friendly|Rio de Janeiro| Brazil|  FALSE|\n",
      "|1984-06-10|   Brazil|       England|         0|         2|       Friendly|Rio de Janeiro| Brazil|  FALSE|\n",
      "|1949-05-08|   Brazil|      Paraguay|         1|         2|   Copa América|Rio de Janeiro| Brazil|  FALSE|\n",
      "|1970-03-04|   Brazil|     Argentina|         0|         2|       Friendly|  Porto Alegre| Brazil|  FALSE|\n",
      "|1992-11-25|   Brazil|       Uruguay|         1|         2|       Friendly|Campina Grande| Brazil|  FALSE|\n",
      "|1956-08-05|   Brazil|Czechoslovakia|         0|         1|       Friendly|Rio de Janeiro| Brazil|  FALSE|\n",
      "|1985-04-28|   Brazil|          Peru|         0|         1|       Friendly|      Brasília| Brazil|  FALSE|\n",
      "+----------+---------+--------------+----------+----------+---------------+--------------+-------+-------+\n",
      "only showing top 20 rows\n",
      "\n"
     ]
    }
   ],
   "source": [
    "results.where(results.country == 'Brazil') \\\n",
    "    .where(results.home_team == 'Brazil') \\\n",
    "    .where(results.home_score < results.away_score) \\\n",
    "    .orderBy('away_score',ascending=False).show()"
   ]
  },
  {
   "cell_type": "code",
   "execution_count": 65,
   "metadata": {},
   "outputs": [],
   "source": [
    "derrotas_sql = spark.sql('select * \\\n",
    "          from partidas \\\n",
    "          where home_team = \"Brazil\" and away_score > home_score and country = \"Brazil\"\\\n",
    "          order by away_score desc')"
   ]
  },
  {
   "cell_type": "code",
   "execution_count": 66,
   "metadata": {},
   "outputs": [
    {
     "name": "stdout",
     "output_type": "stream",
     "text": [
      "+----------+---------+--------------+----------+----------+---------------+--------------+-------+-------+\n",
      "|      date|home_team|     away_team|home_score|away_score|     tournament|          city|country|neutral|\n",
      "+----------+---------+--------------+----------+----------+---------------+--------------+-------+-------+\n",
      "|2014-07-08|   Brazil|       Germany|         1|         7| FIFA World Cup|Belo Horizonte| Brazil|  FALSE|\n",
      "|1939-01-15|   Brazil|     Argentina|         1|         5|      Copa Roca|Rio de Janeiro| Brazil|  FALSE|\n",
      "|1940-03-24|   Brazil|       Uruguay|         3|         4|Copa Rio Branco|Rio de Janeiro| Brazil|  FALSE|\n",
      "|1945-12-16|   Brazil|     Argentina|         3|         4|      Copa Roca|     São Paulo| Brazil|  FALSE|\n",
      "|1950-05-06|   Brazil|       Uruguay|         3|         4|Copa Rio Branco|     São Paulo| Brazil|  FALSE|\n",
      "|1940-02-25|   Brazil|     Argentina|         0|         3|      Copa Roca|     São Paulo| Brazil|  FALSE|\n",
      "|2014-07-12|   Brazil|   Netherlands|         0|         3| FIFA World Cup|      Brasília| Brazil|  FALSE|\n",
      "|1963-04-13|   Brazil|     Argentina|         2|         3|      Copa Roca|     São Paulo| Brazil|  FALSE|\n",
      "|1975-09-30|   Brazil|          Peru|         1|         3|   Copa América|Belo Horizonte| Brazil|  FALSE|\n",
      "|1964-06-03|   Brazil|     Argentina|         0|         3|       Friendly|     São Paulo| Brazil|  FALSE|\n",
      "|1950-07-16|   Brazil|       Uruguay|         1|         2| FIFA World Cup|Rio de Janeiro| Brazil|  FALSE|\n",
      "|1980-06-15|   Brazil|        Russia|         1|         2|       Friendly|Rio de Janeiro| Brazil|  FALSE|\n",
      "|1957-07-07|   Brazil|     Argentina|         1|         2|      Copa Roca|Rio de Janeiro| Brazil|  FALSE|\n",
      "|1968-10-31|   Brazil|        Mexico|         1|         2|       Friendly|Rio de Janeiro| Brazil|  FALSE|\n",
      "|1984-06-10|   Brazil|       England|         0|         2|       Friendly|Rio de Janeiro| Brazil|  FALSE|\n",
      "|1949-05-08|   Brazil|      Paraguay|         1|         2|   Copa América|Rio de Janeiro| Brazil|  FALSE|\n",
      "|1970-03-04|   Brazil|     Argentina|         0|         2|       Friendly|  Porto Alegre| Brazil|  FALSE|\n",
      "|1992-11-25|   Brazil|       Uruguay|         1|         2|       Friendly|Campina Grande| Brazil|  FALSE|\n",
      "|1956-08-05|   Brazil|Czechoslovakia|         0|         1|       Friendly|Rio de Janeiro| Brazil|  FALSE|\n",
      "|1985-04-28|   Brazil|          Peru|         0|         1|       Friendly|      Brasília| Brazil|  FALSE|\n",
      "+----------+---------+--------------+----------+----------+---------------+--------------+-------+-------+\n",
      "only showing top 20 rows\n",
      "\n"
     ]
    }
   ],
   "source": [
    "derrotas_sql.show()"
   ]
  },
  {
   "cell_type": "code",
   "execution_count": 67,
   "metadata": {},
   "outputs": [],
   "source": [
    "derrotas_sql.repartition(1).write.json('/base/analise/derrotas_sql')"
   ]
  },
  {
   "cell_type": "code",
   "execution_count": 71,
   "metadata": {},
   "outputs": [
    {
     "name": "stdout",
     "output_type": "stream",
     "text": [
      "+-----+--------------------+\n",
      "|total|             country|\n",
      "+-----+--------------------+\n",
      "| 1144|       United States|\n",
      "|  801|              France|\n",
      "|  687|             England|\n",
      "|  644|            Malaysia|\n",
      "|  637|              Sweden|\n",
      "|  581|             Germany|\n",
      "|  529|              Brazil|\n",
      "|  517|               Spain|\n",
      "|  483|            Thailand|\n",
      "|  480|               Italy|\n",
      "|  477|         Switzerland|\n",
      "|  475|             Austria|\n",
      "|  472|United Arab Emirates|\n",
      "|  470|        South Africa|\n",
      "|  467|               Qatar|\n",
      "|  453|         South Korea|\n",
      "|  449|           Argentina|\n",
      "|  431|             Hungary|\n",
      "|  405|               Chile|\n",
      "|  396|             Belgium|\n",
      "+-----+--------------------+\n",
      "only showing top 20 rows\n",
      "\n"
     ]
    }
   ],
   "source": [
    "spark.sql('select count(*) as total,country from partidas group by country order by total desc').show()"
   ]
  },
  {
   "cell_type": "code",
   "execution_count": 79,
   "metadata": {},
   "outputs": [
    {
     "name": "stdout",
     "output_type": "stream",
     "text": [
      "+-----+-----------+\n",
      "|total|      times|\n",
      "+-----+-----------+\n",
      "| 1010|     Sweden|\n",
      "|  994|    England|\n",
      "|  977|     Brazil|\n",
      "|  975|  Argentina|\n",
      "|  942|    Germany|\n",
      "|  922|    Hungary|\n",
      "|  878|    Uruguay|\n",
      "|  862|     Mexico|\n",
      "|  853|South Korea|\n",
      "|  834|     France|\n",
      "|  809|     Poland|\n",
      "|  798|     Norway|\n",
      "|  795|      Italy|\n",
      "|  791|Switzerland|\n",
      "|  789|    Denmark|\n",
      "|  778|Netherlands|\n",
      "|  772|    Austria|\n",
      "|  771|   Scotland|\n",
      "|  762|    Belgium|\n",
      "|  756|      Chile|\n",
      "+-----+-----------+\n",
      "only showing top 20 rows\n",
      "\n"
     ]
    }
   ],
   "source": [
    "spark.sql('select count(*) as total,times from (select home_team as times from partidas union all select away_team from partidas) as t group by times order by total desc').show()"
   ]
  },
  {
   "cell_type": "code",
   "execution_count": 81,
   "metadata": {},
   "outputs": [],
   "source": [
    "derrotas_brasil.repartition(1).write.csv('hdfs:/base/analise/derrotas_brasil',mode='overwrite',header=True)"
   ]
  },
  {
   "cell_type": "code",
   "execution_count": 82,
   "metadata": {},
   "outputs": [],
   "source": [
    "derrotas_brasil.repartition(1).write.csv('file:/',mode='overwrite',header=True)"
   ]
  },
  {
   "cell_type": "code",
   "execution_count": 84,
   "metadata": {},
   "outputs": [],
   "source": [
    "derrotas_brasil.repartition(1).write.parquet('/base/analise/parquet',mode='overwrite')"
   ]
  },
  {
   "cell_type": "code",
   "execution_count": 87,
   "metadata": {},
   "outputs": [],
   "source": [
    "json = spark.read.json('/base/analise/derrotas_sql')"
   ]
  },
  {
   "cell_type": "code",
   "execution_count": 88,
   "metadata": {},
   "outputs": [
    {
     "name": "stdout",
     "output_type": "stream",
     "text": [
      "+----------+--------------+--------------+-------+----------+----------+---------+-------+---------------+\n",
      "|away_score|     away_team|          city|country|      date|home_score|home_team|neutral|     tournament|\n",
      "+----------+--------------+--------------+-------+----------+----------+---------+-------+---------------+\n",
      "|         7|       Germany|Belo Horizonte| Brazil|2014-07-08|         1|   Brazil|  FALSE| FIFA World Cup|\n",
      "|         5|     Argentina|Rio de Janeiro| Brazil|1939-01-15|         1|   Brazil|  FALSE|      Copa Roca|\n",
      "|         4|       Uruguay|Rio de Janeiro| Brazil|1940-03-24|         3|   Brazil|  FALSE|Copa Rio Branco|\n",
      "|         4|     Argentina|     São Paulo| Brazil|1945-12-16|         3|   Brazil|  FALSE|      Copa Roca|\n",
      "|         4|       Uruguay|     São Paulo| Brazil|1950-05-06|         3|   Brazil|  FALSE|Copa Rio Branco|\n",
      "|         3|     Argentina|     São Paulo| Brazil|1940-02-25|         0|   Brazil|  FALSE|      Copa Roca|\n",
      "|         3|     Argentina|     São Paulo| Brazil|1963-04-13|         2|   Brazil|  FALSE|      Copa Roca|\n",
      "|         3|     Argentina|     São Paulo| Brazil|1964-06-03|         0|   Brazil|  FALSE|       Friendly|\n",
      "|         3|          Peru|Belo Horizonte| Brazil|1975-09-30|         1|   Brazil|  FALSE|   Copa América|\n",
      "|         3|   Netherlands|      Brasília| Brazil|2014-07-12|         0|   Brazil|  FALSE| FIFA World Cup|\n",
      "|         2|      Paraguay|Rio de Janeiro| Brazil|1949-05-08|         1|   Brazil|  FALSE|   Copa América|\n",
      "|         2|       Uruguay|Rio de Janeiro| Brazil|1950-07-16|         1|   Brazil|  FALSE| FIFA World Cup|\n",
      "|         2|     Argentina|Rio de Janeiro| Brazil|1957-07-07|         1|   Brazil|  FALSE|      Copa Roca|\n",
      "|         2|        Mexico|Rio de Janeiro| Brazil|1968-10-31|         1|   Brazil|  FALSE|       Friendly|\n",
      "|         2|     Argentina|  Porto Alegre| Brazil|1970-03-04|         0|   Brazil|  FALSE|       Friendly|\n",
      "|         2|        Russia|Rio de Janeiro| Brazil|1980-06-15|         1|   Brazil|  FALSE|       Friendly|\n",
      "|         2|       England|Rio de Janeiro| Brazil|1984-06-10|         0|   Brazil|  FALSE|       Friendly|\n",
      "|         2|       Uruguay|Campina Grande| Brazil|1992-11-25|         1|   Brazil|  FALSE|       Friendly|\n",
      "|         1|Czechoslovakia|Rio de Janeiro| Brazil|1956-08-05|         0|   Brazil|  FALSE|       Friendly|\n",
      "|         1|          Peru|      Brasília| Brazil|1985-04-28|         0|   Brazil|  FALSE|       Friendly|\n",
      "+----------+--------------+--------------+-------+----------+----------+---------+-------+---------------+\n",
      "only showing top 20 rows\n",
      "\n"
     ]
    }
   ],
   "source": [
    "json.show()"
   ]
  },
  {
   "cell_type": "code",
   "execution_count": 89,
   "metadata": {},
   "outputs": [],
   "source": [
    "parquet = spark.read.parquet('/base/analise/parquet')"
   ]
  },
  {
   "cell_type": "code",
   "execution_count": 90,
   "metadata": {},
   "outputs": [
    {
     "name": "stdout",
     "output_type": "stream",
     "text": [
      "+----------+---------+--------------+----------+----------+---------------+--------------+-------+\n",
      "|      date|home_team|     away_team|home_score|away_score|     tournament|          city|country|\n",
      "+----------+---------+--------------+----------+----------+---------------+--------------+-------+\n",
      "|2014-07-08|   Brazil|       Germany|         1|         7| FIFA World Cup|Belo Horizonte| Brazil|\n",
      "|1939-01-15|   Brazil|     Argentina|         1|         5|      Copa Roca|Rio de Janeiro| Brazil|\n",
      "|1940-03-24|   Brazil|       Uruguay|         3|         4|Copa Rio Branco|Rio de Janeiro| Brazil|\n",
      "|1945-12-16|   Brazil|     Argentina|         3|         4|      Copa Roca|     São Paulo| Brazil|\n",
      "|1950-05-06|   Brazil|       Uruguay|         3|         4|Copa Rio Branco|     São Paulo| Brazil|\n",
      "|1940-02-25|   Brazil|     Argentina|         0|         3|      Copa Roca|     São Paulo| Brazil|\n",
      "|1963-04-13|   Brazil|     Argentina|         2|         3|      Copa Roca|     São Paulo| Brazil|\n",
      "|1964-06-03|   Brazil|     Argentina|         0|         3|       Friendly|     São Paulo| Brazil|\n",
      "|1975-09-30|   Brazil|          Peru|         1|         3|   Copa América|Belo Horizonte| Brazil|\n",
      "|2014-07-12|   Brazil|   Netherlands|         0|         3| FIFA World Cup|      Brasília| Brazil|\n",
      "|1949-05-08|   Brazil|      Paraguay|         1|         2|   Copa América|Rio de Janeiro| Brazil|\n",
      "|1950-07-16|   Brazil|       Uruguay|         1|         2| FIFA World Cup|Rio de Janeiro| Brazil|\n",
      "|1957-07-07|   Brazil|     Argentina|         1|         2|      Copa Roca|Rio de Janeiro| Brazil|\n",
      "|1968-10-31|   Brazil|        Mexico|         1|         2|       Friendly|Rio de Janeiro| Brazil|\n",
      "|1970-03-04|   Brazil|     Argentina|         0|         2|       Friendly|  Porto Alegre| Brazil|\n",
      "|1980-06-15|   Brazil|        Russia|         1|         2|       Friendly|Rio de Janeiro| Brazil|\n",
      "|1984-06-10|   Brazil|       England|         0|         2|       Friendly|Rio de Janeiro| Brazil|\n",
      "|1992-11-25|   Brazil|       Uruguay|         1|         2|       Friendly|Campina Grande| Brazil|\n",
      "|1956-08-05|   Brazil|Czechoslovakia|         0|         1|       Friendly|Rio de Janeiro| Brazil|\n",
      "|1985-04-28|   Brazil|          Peru|         0|         1|       Friendly|      Brasília| Brazil|\n",
      "+----------+---------+--------------+----------+----------+---------------+--------------+-------+\n",
      "only showing top 20 rows\n",
      "\n"
     ]
    }
   ],
   "source": [
    "parquet.show()"
   ]
  },
  {
   "cell_type": "code",
   "execution_count": 93,
   "metadata": {},
   "outputs": [
    {
     "name": "stdout",
     "output_type": "stream",
     "text": [
      "+----------+---------+--------------+----------+----------+---------------+--------------+-------+\n",
      "|      date|home_team|     away_team|home_score|away_score|     tournament|          city|country|\n",
      "+----------+---------+--------------+----------+----------+---------------+--------------+-------+\n",
      "|2014-07-08|   Brazil|       Germany|         1|         7| FIFA World Cup|Belo Horizonte| Brazil|\n",
      "|1939-01-15|   Brazil|     Argentina|         1|         5|      Copa Roca|Rio de Janeiro| Brazil|\n",
      "|1940-03-24|   Brazil|       Uruguay|         3|         4|Copa Rio Branco|Rio de Janeiro| Brazil|\n",
      "|1945-12-16|   Brazil|     Argentina|         3|         4|      Copa Roca|     São Paulo| Brazil|\n",
      "|1950-05-06|   Brazil|       Uruguay|         3|         4|Copa Rio Branco|     São Paulo| Brazil|\n",
      "|1940-02-25|   Brazil|     Argentina|         0|         3|      Copa Roca|     São Paulo| Brazil|\n",
      "|1963-04-13|   Brazil|     Argentina|         2|         3|      Copa Roca|     São Paulo| Brazil|\n",
      "|1964-06-03|   Brazil|     Argentina|         0|         3|       Friendly|     São Paulo| Brazil|\n",
      "|1975-09-30|   Brazil|          Peru|         1|         3|   Copa América|Belo Horizonte| Brazil|\n",
      "|2014-07-12|   Brazil|   Netherlands|         0|         3| FIFA World Cup|      Brasília| Brazil|\n",
      "|1949-05-08|   Brazil|      Paraguay|         1|         2|   Copa América|Rio de Janeiro| Brazil|\n",
      "|1950-07-16|   Brazil|       Uruguay|         1|         2| FIFA World Cup|Rio de Janeiro| Brazil|\n",
      "|1957-07-07|   Brazil|     Argentina|         1|         2|      Copa Roca|Rio de Janeiro| Brazil|\n",
      "|1968-10-31|   Brazil|        Mexico|         1|         2|       Friendly|Rio de Janeiro| Brazil|\n",
      "|1970-03-04|   Brazil|     Argentina|         0|         2|       Friendly|  Porto Alegre| Brazil|\n",
      "|1980-06-15|   Brazil|        Russia|         1|         2|       Friendly|Rio de Janeiro| Brazil|\n",
      "|1984-06-10|   Brazil|       England|         0|         2|       Friendly|Rio de Janeiro| Brazil|\n",
      "|1992-11-25|   Brazil|       Uruguay|         1|         2|       Friendly|Campina Grande| Brazil|\n",
      "|1956-08-05|   Brazil|Czechoslovakia|         0|         1|       Friendly|Rio de Janeiro| Brazil|\n",
      "|1985-04-28|   Brazil|          Peru|         0|         1|       Friendly|      Brasília| Brazil|\n",
      "+----------+---------+--------------+----------+----------+---------------+--------------+-------+\n",
      "only showing top 20 rows\n",
      "\n"
     ]
    }
   ],
   "source": [
    "parquet.show()"
   ]
  },
  {
   "cell_type": "code",
   "execution_count": 106,
   "metadata": {},
   "outputs": [],
   "source": [
    "json = json.select('away_score','away_team','city','country','date','home_score','home_team','tournament')"
   ]
  },
  {
   "cell_type": "code",
   "execution_count": 107,
   "metadata": {},
   "outputs": [],
   "source": [
    "parquet = parquet.select('away_score','away_team','city','country','date','home_score','home_team','tournament')"
   ]
  },
  {
   "cell_type": "code",
   "execution_count": 108,
   "metadata": {},
   "outputs": [],
   "source": [
    "all = parquet.unionAll(json)"
   ]
  },
  {
   "cell_type": "code",
   "execution_count": 109,
   "metadata": {},
   "outputs": [
    {
     "name": "stdout",
     "output_type": "stream",
     "text": [
      "+----------+--------------+--------------+-------+----------+----------+---------+---------------+\n",
      "|away_score|     away_team|          city|country|      date|home_score|home_team|     tournament|\n",
      "+----------+--------------+--------------+-------+----------+----------+---------+---------------+\n",
      "|         5|     Argentina|Rio de Janeiro| Brazil|1939-01-15|         1|   Brazil|      Copa Roca|\n",
      "|         5|     Argentina|Rio de Janeiro| Brazil|1939-01-15|         1|   Brazil|      Copa Roca|\n",
      "|         3|     Argentina|     São Paulo| Brazil|1940-02-25|         0|   Brazil|      Copa Roca|\n",
      "|         3|     Argentina|     São Paulo| Brazil|1940-02-25|         0|   Brazil|      Copa Roca|\n",
      "|         4|       Uruguay|Rio de Janeiro| Brazil|1940-03-24|         3|   Brazil|Copa Rio Branco|\n",
      "|         4|       Uruguay|Rio de Janeiro| Brazil|1940-03-24|         3|   Brazil|Copa Rio Branco|\n",
      "|         4|     Argentina|     São Paulo| Brazil|1945-12-16|         3|   Brazil|      Copa Roca|\n",
      "|         4|     Argentina|     São Paulo| Brazil|1945-12-16|         3|   Brazil|      Copa Roca|\n",
      "|         2|      Paraguay|Rio de Janeiro| Brazil|1949-05-08|         1|   Brazil|   Copa América|\n",
      "|         2|      Paraguay|Rio de Janeiro| Brazil|1949-05-08|         1|   Brazil|   Copa América|\n",
      "|         4|       Uruguay|     São Paulo| Brazil|1950-05-06|         3|   Brazil|Copa Rio Branco|\n",
      "|         4|       Uruguay|     São Paulo| Brazil|1950-05-06|         3|   Brazil|Copa Rio Branco|\n",
      "|         2|       Uruguay|Rio de Janeiro| Brazil|1950-07-16|         1|   Brazil| FIFA World Cup|\n",
      "|         2|       Uruguay|Rio de Janeiro| Brazil|1950-07-16|         1|   Brazil| FIFA World Cup|\n",
      "|         1|Czechoslovakia|Rio de Janeiro| Brazil|1956-08-05|         0|   Brazil|       Friendly|\n",
      "|         1|Czechoslovakia|Rio de Janeiro| Brazil|1956-08-05|         0|   Brazil|       Friendly|\n",
      "|         2|     Argentina|Rio de Janeiro| Brazil|1957-07-07|         1|   Brazil|      Copa Roca|\n",
      "|         2|     Argentina|Rio de Janeiro| Brazil|1957-07-07|         1|   Brazil|      Copa Roca|\n",
      "|         3|     Argentina|     São Paulo| Brazil|1963-04-13|         2|   Brazil|      Copa Roca|\n",
      "|         3|     Argentina|     São Paulo| Brazil|1963-04-13|         2|   Brazil|      Copa Roca|\n",
      "+----------+--------------+--------------+-------+----------+----------+---------+---------------+\n",
      "only showing top 20 rows\n",
      "\n"
     ]
    }
   ],
   "source": [
    "all.orderBy('date').show()"
   ]
  },
  {
   "cell_type": "code",
   "execution_count": 110,
   "metadata": {},
   "outputs": [
    {
     "data": {
      "text/plain": [
       "44"
      ]
     },
     "execution_count": 110,
     "metadata": {},
     "output_type": "execute_result"
    }
   ],
   "source": [
    "all.count()"
   ]
  },
  {
   "cell_type": "code",
   "execution_count": 111,
   "metadata": {},
   "outputs": [],
   "source": [
    "all_sem_duplicado = all.dropDuplicates()"
   ]
  },
  {
   "cell_type": "code",
   "execution_count": 112,
   "metadata": {},
   "outputs": [
    {
     "data": {
      "text/plain": [
       "22"
      ]
     },
     "execution_count": 112,
     "metadata": {},
     "output_type": "execute_result"
    }
   ],
   "source": [
    "all_sem_duplicado.count()"
   ]
  },
  {
   "cell_type": "code",
   "execution_count": 114,
   "metadata": {},
   "outputs": [
    {
     "name": "stdout",
     "output_type": "stream",
     "text": [
      "+----------+--------------+--------------+-------+----------+----------+---------+---------------+\n",
      "|away_score|     away_team|          city|country|      date|home_score|home_team|     tournament|\n",
      "+----------+--------------+--------------+-------+----------+----------+---------+---------------+\n",
      "|         5|     Argentina|Rio de Janeiro| Brazil|1939-01-15|         1|   Brazil|      Copa Roca|\n",
      "|         3|     Argentina|     São Paulo| Brazil|1940-02-25|         0|   Brazil|      Copa Roca|\n",
      "|         4|       Uruguay|Rio de Janeiro| Brazil|1940-03-24|         3|   Brazil|Copa Rio Branco|\n",
      "|         4|     Argentina|     São Paulo| Brazil|1945-12-16|         3|   Brazil|      Copa Roca|\n",
      "|         2|      Paraguay|Rio de Janeiro| Brazil|1949-05-08|         1|   Brazil|   Copa América|\n",
      "|         4|       Uruguay|     São Paulo| Brazil|1950-05-06|         3|   Brazil|Copa Rio Branco|\n",
      "|         2|       Uruguay|Rio de Janeiro| Brazil|1950-07-16|         1|   Brazil| FIFA World Cup|\n",
      "|         1|Czechoslovakia|Rio de Janeiro| Brazil|1956-08-05|         0|   Brazil|       Friendly|\n",
      "|         2|     Argentina|Rio de Janeiro| Brazil|1957-07-07|         1|   Brazil|      Copa Roca|\n",
      "|         3|     Argentina|     São Paulo| Brazil|1963-04-13|         2|   Brazil|      Copa Roca|\n",
      "|         3|     Argentina|     São Paulo| Brazil|1964-06-03|         0|   Brazil|       Friendly|\n",
      "|         2|        Mexico|Rio de Janeiro| Brazil|1968-10-31|         1|   Brazil|       Friendly|\n",
      "|         2|     Argentina|  Porto Alegre| Brazil|1970-03-04|         0|   Brazil|       Friendly|\n",
      "|         3|          Peru|Belo Horizonte| Brazil|1975-09-30|         1|   Brazil|   Copa América|\n",
      "|         2|        Russia|Rio de Janeiro| Brazil|1980-06-15|         1|   Brazil|       Friendly|\n",
      "|         2|       England|Rio de Janeiro| Brazil|1984-06-10|         0|   Brazil|       Friendly|\n",
      "|         1|          Peru|      Brasília| Brazil|1985-04-28|         0|   Brazil|       Friendly|\n",
      "|         2|       Uruguay|Campina Grande| Brazil|1992-11-25|         1|   Brazil|       Friendly|\n",
      "|         1|     Argentina|Rio de Janeiro| Brazil|1998-04-29|         0|   Brazil|       Friendly|\n",
      "|         1|      Paraguay|     Fortaleza| Brazil|2002-08-21|         0|   Brazil|       Friendly|\n",
      "+----------+--------------+--------------+-------+----------+----------+---------+---------------+\n",
      "only showing top 20 rows\n",
      "\n"
     ]
    }
   ],
   "source": [
    "all_sem_duplicado.orderBy('date').show()"
   ]
  },
  {
   "cell_type": "code",
   "execution_count": 115,
   "metadata": {},
   "outputs": [],
   "source": [
    "json.registerTempTable('json')"
   ]
  },
  {
   "cell_type": "code",
   "execution_count": 116,
   "metadata": {},
   "outputs": [],
   "source": [
    "parquet.registerTempTable('parquet')"
   ]
  },
  {
   "cell_type": "code",
   "execution_count": 119,
   "metadata": {},
   "outputs": [
    {
     "name": "stdout",
     "output_type": "stream",
     "text": [
      "+----------+--------------+--------------+-------+----------+----------+---------+---------------+\n",
      "|away_score|     away_team|          city|country|      date|home_score|home_team|     tournament|\n",
      "+----------+--------------+--------------+-------+----------+----------+---------+---------------+\n",
      "|         5|     Argentina|Rio de Janeiro| Brazil|1939-01-15|         1|   Brazil|      Copa Roca|\n",
      "|         5|     Argentina|Rio de Janeiro| Brazil|1939-01-15|         1|   Brazil|      Copa Roca|\n",
      "|         3|     Argentina|     São Paulo| Brazil|1940-02-25|         0|   Brazil|      Copa Roca|\n",
      "|         3|     Argentina|     São Paulo| Brazil|1940-02-25|         0|   Brazil|      Copa Roca|\n",
      "|         4|       Uruguay|Rio de Janeiro| Brazil|1940-03-24|         3|   Brazil|Copa Rio Branco|\n",
      "|         4|       Uruguay|Rio de Janeiro| Brazil|1940-03-24|         3|   Brazil|Copa Rio Branco|\n",
      "|         4|     Argentina|     São Paulo| Brazil|1945-12-16|         3|   Brazil|      Copa Roca|\n",
      "|         4|     Argentina|     São Paulo| Brazil|1945-12-16|         3|   Brazil|      Copa Roca|\n",
      "|         2|      Paraguay|Rio de Janeiro| Brazil|1949-05-08|         1|   Brazil|   Copa América|\n",
      "|         2|      Paraguay|Rio de Janeiro| Brazil|1949-05-08|         1|   Brazil|   Copa América|\n",
      "|         4|       Uruguay|     São Paulo| Brazil|1950-05-06|         3|   Brazil|Copa Rio Branco|\n",
      "|         4|       Uruguay|     São Paulo| Brazil|1950-05-06|         3|   Brazil|Copa Rio Branco|\n",
      "|         2|       Uruguay|Rio de Janeiro| Brazil|1950-07-16|         1|   Brazil| FIFA World Cup|\n",
      "|         2|       Uruguay|Rio de Janeiro| Brazil|1950-07-16|         1|   Brazil| FIFA World Cup|\n",
      "|         1|Czechoslovakia|Rio de Janeiro| Brazil|1956-08-05|         0|   Brazil|       Friendly|\n",
      "|         1|Czechoslovakia|Rio de Janeiro| Brazil|1956-08-05|         0|   Brazil|       Friendly|\n",
      "|         2|     Argentina|Rio de Janeiro| Brazil|1957-07-07|         1|   Brazil|      Copa Roca|\n",
      "|         2|     Argentina|Rio de Janeiro| Brazil|1957-07-07|         1|   Brazil|      Copa Roca|\n",
      "|         3|     Argentina|     São Paulo| Brazil|1963-04-13|         2|   Brazil|      Copa Roca|\n",
      "|         3|     Argentina|     São Paulo| Brazil|1963-04-13|         2|   Brazil|      Copa Roca|\n",
      "+----------+--------------+--------------+-------+----------+----------+---------+---------------+\n",
      "only showing top 20 rows\n",
      "\n"
     ]
    }
   ],
   "source": [
    "spark.sql('select * from json union all select * from parquet order by date').show()"
   ]
  },
  {
   "cell_type": "code",
   "execution_count": 121,
   "metadata": {},
   "outputs": [
    {
     "name": "stdout",
     "output_type": "stream",
     "text": [
      "+----------+--------------+\n",
      "|      date|          city|\n",
      "+----------+--------------+\n",
      "|2014-07-08|Belo Horizonte|\n",
      "|1939-01-15|Rio de Janeiro|\n",
      "|1940-03-24|Rio de Janeiro|\n",
      "|1945-12-16|     São Paulo|\n",
      "|1950-05-06|     São Paulo|\n",
      "|1940-02-25|     São Paulo|\n",
      "|1963-04-13|     São Paulo|\n",
      "|1964-06-03|     São Paulo|\n",
      "|1975-09-30|Belo Horizonte|\n",
      "|2014-07-12|      Brasília|\n",
      "|1949-05-08|Rio de Janeiro|\n",
      "|1950-07-16|Rio de Janeiro|\n",
      "|1957-07-07|Rio de Janeiro|\n",
      "|1968-10-31|Rio de Janeiro|\n",
      "|1970-03-04|  Porto Alegre|\n",
      "|1980-06-15|Rio de Janeiro|\n",
      "|1984-06-10|Rio de Janeiro|\n",
      "|1992-11-25|Campina Grande|\n",
      "|1956-08-05|Rio de Janeiro|\n",
      "|1985-04-28|      Brasília|\n",
      "+----------+--------------+\n",
      "only showing top 20 rows\n",
      "\n"
     ]
    }
   ],
   "source": [
    "spark.sql('select json.date,json.city from json inner join parquet on json.date = parquet.date').show()"
   ]
  },
  {
   "cell_type": "code",
   "execution_count": 123,
   "metadata": {},
   "outputs": [
    {
     "name": "stdout",
     "output_type": "stream",
     "text": [
      "+----------+--------------+\n",
      "|      date|          city|\n",
      "+----------+--------------+\n",
      "|2014-07-08|Belo Horizonte|\n",
      "|1939-01-15|Rio de Janeiro|\n",
      "|1940-03-24|Rio de Janeiro|\n",
      "|1945-12-16|     São Paulo|\n",
      "|1950-05-06|     São Paulo|\n",
      "|1940-02-25|     São Paulo|\n",
      "|1963-04-13|     São Paulo|\n",
      "|1964-06-03|     São Paulo|\n",
      "|1975-09-30|Belo Horizonte|\n",
      "|2014-07-12|      Brasília|\n",
      "|1949-05-08|Rio de Janeiro|\n",
      "|1950-07-16|Rio de Janeiro|\n",
      "|1957-07-07|Rio de Janeiro|\n",
      "|1968-10-31|Rio de Janeiro|\n",
      "|1970-03-04|  Porto Alegre|\n",
      "|1980-06-15|Rio de Janeiro|\n",
      "|1984-06-10|Rio de Janeiro|\n",
      "|1992-11-25|Campina Grande|\n",
      "|1956-08-05|Rio de Janeiro|\n",
      "|1985-04-28|      Brasília|\n",
      "+----------+--------------+\n",
      "only showing top 20 rows\n",
      "\n"
     ]
    }
   ],
   "source": [
    "parquet.join(json,json.date == parquet.date).select(json.date,json.city).show()"
   ]
  },
  {
   "cell_type": "code",
   "execution_count": 124,
   "metadata": {},
   "outputs": [],
   "source": [
    "import pandas as pd"
   ]
  },
  {
   "cell_type": "code",
   "execution_count": 125,
   "metadata": {},
   "outputs": [],
   "source": [
    "j = json.toPandas()"
   ]
  },
  {
   "cell_type": "code",
   "execution_count": 126,
   "metadata": {},
   "outputs": [
    {
     "data": {
      "text/plain": [
       "pandas.core.frame.DataFrame"
      ]
     },
     "execution_count": 126,
     "metadata": {},
     "output_type": "execute_result"
    }
   ],
   "source": [
    "type(j)"
   ]
  },
  {
   "cell_type": "code",
   "execution_count": 127,
   "metadata": {},
   "outputs": [
    {
     "data": {
      "text/plain": [
       "pyspark.sql.dataframe.DataFrame"
      ]
     },
     "execution_count": 127,
     "metadata": {},
     "output_type": "execute_result"
    }
   ],
   "source": [
    "type(json)"
   ]
  },
  {
   "cell_type": "code",
   "execution_count": 136,
   "metadata": {},
   "outputs": [],
   "source": [
    "teste = spark.createDataFrame([(1,'teste'),(2,'teste2')],['id','nome'])"
   ]
  },
  {
   "cell_type": "code",
   "execution_count": 137,
   "metadata": {},
   "outputs": [
    {
     "name": "stdout",
     "output_type": "stream",
     "text": [
      "+---+------+\n",
      "| id|  nome|\n",
      "+---+------+\n",
      "|  1| teste|\n",
      "|  2|teste2|\n",
      "+---+------+\n",
      "\n"
     ]
    }
   ],
   "source": [
    "teste.show()"
   ]
  },
  {
   "cell_type": "code",
   "execution_count": 135,
   "metadata": {},
   "outputs": [
    {
     "name": "stdout",
     "output_type": "stream",
     "text": [
      "Help on method createDataFrame in module pyspark.sql.session:\n",
      "\n",
      "createDataFrame(data, schema=None, samplingRatio=None, verifySchema=True) method of pyspark.sql.session.SparkSession instance\n",
      "    Creates a :class:`DataFrame` from an :class:`RDD`, a list or a :class:`pandas.DataFrame`.\n",
      "    \n",
      "    When ``schema`` is a list of column names, the type of each column\n",
      "    will be inferred from ``data``.\n",
      "    \n",
      "    When ``schema`` is ``None``, it will try to infer the schema (column names and types)\n",
      "    from ``data``, which should be an RDD of :class:`Row`,\n",
      "    or :class:`namedtuple`, or :class:`dict`.\n",
      "    \n",
      "    When ``schema`` is :class:`pyspark.sql.types.DataType` or a datatype string, it must match\n",
      "    the real data, or an exception will be thrown at runtime. If the given schema is not\n",
      "    :class:`pyspark.sql.types.StructType`, it will be wrapped into a\n",
      "    :class:`pyspark.sql.types.StructType` as its only field, and the field name will be \"value\",\n",
      "    each record will also be wrapped into a tuple, which can be converted to row later.\n",
      "    \n",
      "    If schema inference is needed, ``samplingRatio`` is used to determined the ratio of\n",
      "    rows used for schema inference. The first row will be used if ``samplingRatio`` is ``None``.\n",
      "    \n",
      "    :param data: an RDD of any kind of SQL data representation(e.g. row, tuple, int, boolean,\n",
      "        etc.), or :class:`list`, or :class:`pandas.DataFrame`.\n",
      "    :param schema: a :class:`pyspark.sql.types.DataType` or a datatype string or a list of\n",
      "        column names, default is ``None``.  The data type string format equals to\n",
      "        :class:`pyspark.sql.types.DataType.simpleString`, except that top level struct type can\n",
      "        omit the ``struct<>`` and atomic types use ``typeName()`` as their format, e.g. use\n",
      "        ``byte`` instead of ``tinyint`` for :class:`pyspark.sql.types.ByteType`. We can also use\n",
      "        ``int`` as a short name for ``IntegerType``.\n",
      "    :param samplingRatio: the sample ratio of rows used for inferring\n",
      "    :param verifySchema: verify data types of every row against schema.\n",
      "    :return: :class:`DataFrame`\n",
      "    \n",
      "    .. versionchanged:: 2.1\n",
      "       Added verifySchema.\n",
      "    \n",
      "    .. note:: Usage with spark.sql.execution.arrow.enabled=True is experimental.\n",
      "    \n",
      "    >>> l = [('Alice', 1)]\n",
      "    >>> spark.createDataFrame(l).collect()\n",
      "    [Row(_1='Alice', _2=1)]\n",
      "    >>> spark.createDataFrame(l, ['name', 'age']).collect()\n",
      "    [Row(name='Alice', age=1)]\n",
      "    \n",
      "    >>> d = [{'name': 'Alice', 'age': 1}]\n",
      "    >>> spark.createDataFrame(d).collect()\n",
      "    [Row(age=1, name='Alice')]\n",
      "    \n",
      "    >>> rdd = sc.parallelize(l)\n",
      "    >>> spark.createDataFrame(rdd).collect()\n",
      "    [Row(_1='Alice', _2=1)]\n",
      "    >>> df = spark.createDataFrame(rdd, ['name', 'age'])\n",
      "    >>> df.collect()\n",
      "    [Row(name='Alice', age=1)]\n",
      "    \n",
      "    >>> from pyspark.sql import Row\n",
      "    >>> Person = Row('name', 'age')\n",
      "    >>> person = rdd.map(lambda r: Person(*r))\n",
      "    >>> df2 = spark.createDataFrame(person)\n",
      "    >>> df2.collect()\n",
      "    [Row(name='Alice', age=1)]\n",
      "    \n",
      "    >>> from pyspark.sql.types import *\n",
      "    >>> schema = StructType([\n",
      "    ...    StructField(\"name\", StringType(), True),\n",
      "    ...    StructField(\"age\", IntegerType(), True)])\n",
      "    >>> df3 = spark.createDataFrame(rdd, schema)\n",
      "    >>> df3.collect()\n",
      "    [Row(name='Alice', age=1)]\n",
      "    \n",
      "    >>> spark.createDataFrame(df.toPandas()).collect()  # doctest: +SKIP\n",
      "    [Row(name='Alice', age=1)]\n",
      "    >>> spark.createDataFrame(pandas.DataFrame([[1, 2]])).collect()  # doctest: +SKIP\n",
      "    [Row(0=1, 1=2)]\n",
      "    \n",
      "    >>> spark.createDataFrame(rdd, \"a: string, b: int\").collect()\n",
      "    [Row(a='Alice', b=1)]\n",
      "    >>> rdd = rdd.map(lambda row: row[1])\n",
      "    >>> spark.createDataFrame(rdd, \"int\").collect()\n",
      "    [Row(value=1)]\n",
      "    >>> spark.createDataFrame(rdd, \"boolean\").collect() # doctest: +IGNORE_EXCEPTION_DETAIL\n",
      "    Traceback (most recent call last):\n",
      "        ...\n",
      "    Py4JJavaError: ...\n",
      "    \n",
      "    .. versionadded:: 2.0\n",
      "\n"
     ]
    }
   ],
   "source": [
    "help(spark.createDataFrame)"
   ]
  },
  {
   "cell_type": "code",
   "execution_count": 138,
   "metadata": {},
   "outputs": [],
   "source": [
    "file = spark.read.csv('/base/teste.csv',header=True)"
   ]
  },
  {
   "cell_type": "code",
   "execution_count": 139,
   "metadata": {},
   "outputs": [
    {
     "name": "stdout",
     "output_type": "stream",
     "text": [
      "+---+------+\n",
      "| id|  nome|\n",
      "+---+------+\n",
      "|  1| teste|\n",
      "|  2|teste2|\n",
      "|  3|teste3|\n",
      "|  4|teste4|\n",
      "+---+------+\n",
      "\n"
     ]
    }
   ],
   "source": [
    "file.show()"
   ]
  },
  {
   "cell_type": "code",
   "execution_count": 142,
   "metadata": {},
   "outputs": [
    {
     "name": "stdout",
     "output_type": "stream",
     "text": [
      "+---+------+----+------+\n",
      "| id|  nome|  id|  nome|\n",
      "+---+------+----+------+\n",
      "|  1| teste|   1| teste|\n",
      "|  3|teste3|null|  null|\n",
      "|  2|teste2|   2|teste2|\n",
      "|  4|teste4|null|  null|\n",
      "+---+------+----+------+\n",
      "\n"
     ]
    }
   ],
   "source": [
    "file.join(teste,teste.id == file.id,how='left').show()"
   ]
  },
  {
   "cell_type": "code",
   "execution_count": 150,
   "metadata": {},
   "outputs": [],
   "source": [
    "file.createOrReplaceTempView('file2')"
   ]
  },
  {
   "cell_type": "code",
   "execution_count": 151,
   "metadata": {},
   "outputs": [],
   "source": [
    "teste.createOrReplaceTempView('teste2')"
   ]
  },
  {
   "cell_type": "code",
   "execution_count": 152,
   "metadata": {},
   "outputs": [
    {
     "name": "stdout",
     "output_type": "stream",
     "text": [
      "+---+------+----+------+\n",
      "| id|  nome|  id|  nome|\n",
      "+---+------+----+------+\n",
      "|  1| teste|   1| teste|\n",
      "|  3|teste3|null|  null|\n",
      "|  2|teste2|   2|teste2|\n",
      "|  4|teste4|null|  null|\n",
      "+---+------+----+------+\n",
      "\n"
     ]
    }
   ],
   "source": [
    "spark.sql('select * from file2 left join teste2 on teste2.id = file2.id').show()"
   ]
  },
  {
   "cell_type": "code",
   "execution_count": 156,
   "metadata": {},
   "outputs": [
    {
     "name": "stdout",
     "output_type": "stream",
     "text": [
      "+--------+---------------+-----------+\n",
      "|database|      tableName|isTemporary|\n",
      "+--------+---------------+-----------+\n",
      "| default|covid_countries|      false|\n",
      "| default|  dados_tratado|      false|\n",
      "| default|    departments|      false|\n",
      "| default|departments_new|      false|\n",
      "| default|     hello_acid|      false|\n",
      "| default|    resultado22|      false|\n",
      "| default|     resultado4|      false|\n",
      "| default|  tabelaexterna|      false|\n",
      "| default|  tabelaparquet|      false|\n",
      "| default|  tabela_trans2|      false|\n",
      "| default|      tablename|      false|\n",
      "|        |           file|       true|\n",
      "|        |          file2|       true|\n",
      "|        |           json|       true|\n",
      "|        |        parquet|       true|\n",
      "|        |       partidas|       true|\n",
      "|        |          teste|       true|\n",
      "|        |         teste2|       true|\n",
      "+--------+---------------+-----------+\n",
      "\n"
     ]
    }
   ],
   "source": [
    "spark.sql('show tables from default').show()"
   ]
  },
  {
   "cell_type": "code",
   "execution_count": 161,
   "metadata": {},
   "outputs": [],
   "source": [
    "df_mysql = spark.read \\\n",
    "    .format(\"jdbc\") \\\n",
    "    .option(\"url\",\"jdbc:mysql://database/employees\") \\\n",
    "    .option(\"driver\",\"com.mysql.jdbc.Driver\") \\\n",
    "    .option(\"dbtable\",\"employees\") \\\n",
    "    .option(\"user\",\"root\") \\\n",
    "    .option(\"password\",\"secret\") \\\n",
    "    .load()\n"
   ]
  },
  {
   "cell_type": "code",
   "execution_count": 159,
   "metadata": {},
   "outputs": [
    {
     "name": "stdout",
     "output_type": "stream",
     "text": [
      "+------+----------+----------+-----------+------+----------+\n",
      "|emp_no|birth_date|first_name|  last_name|gender| hire_date|\n",
      "+------+----------+----------+-----------+------+----------+\n",
      "| 10001|1953-09-02|    Georgi|    Facello|     M|1986-06-26|\n",
      "| 10002|1964-06-02|   Bezalel|     Simmel|     F|1985-11-21|\n",
      "| 10003|1959-12-03|     Parto|    Bamford|     M|1986-08-28|\n",
      "| 10004|1954-05-01| Chirstian|    Koblick|     M|1986-12-01|\n",
      "| 10005|1955-01-21|   Kyoichi|   Maliniak|     M|1989-09-12|\n",
      "| 10006|1953-04-20|    Anneke|    Preusig|     F|1989-06-02|\n",
      "| 10007|1957-05-23|   Tzvetan|  Zielinski|     F|1989-02-10|\n",
      "| 10008|1958-02-19|    Saniya|   Kalloufi|     M|1994-09-15|\n",
      "| 10009|1952-04-19|    Sumant|       Peac|     F|1985-02-18|\n",
      "| 10010|1963-06-01| Duangkaew|   Piveteau|     F|1989-08-24|\n",
      "| 10011|1953-11-07|      Mary|      Sluis|     F|1990-01-22|\n",
      "| 10012|1960-10-04|  Patricio|  Bridgland|     M|1992-12-18|\n",
      "| 10013|1963-06-07| Eberhardt|     Terkki|     M|1985-10-20|\n",
      "| 10014|1956-02-12|     Berni|      Genin|     M|1987-03-11|\n",
      "| 10015|1959-08-19|  Guoxiang|  Nooteboom|     M|1987-07-02|\n",
      "| 10016|1961-05-02|  Kazuhito|Cappelletti|     M|1995-01-27|\n",
      "| 10017|1958-07-06| Cristinel|  Bouloucos|     F|1993-08-03|\n",
      "| 10018|1954-06-19|  Kazuhide|       Peha|     F|1987-04-03|\n",
      "| 10019|1953-01-23|   Lillian|    Haddadi|     M|1999-04-30|\n",
      "| 10020|1952-12-24|    Mayuko|    Warwick|     M|1991-01-26|\n",
      "+------+----------+----------+-----------+------+----------+\n",
      "only showing top 20 rows\n",
      "\n"
     ]
    }
   ],
   "source": [
    "df_mysql.show()"
   ]
  },
  {
   "cell_type": "code",
   "execution_count": 162,
   "metadata": {},
   "outputs": [
    {
     "data": {
      "text/plain": [
       "pyspark.sql.dataframe.DataFrame"
      ]
     },
     "execution_count": 162,
     "metadata": {},
     "output_type": "execute_result"
    }
   ],
   "source": [
    "type(df_mysql)"
   ]
  },
  {
   "cell_type": "code",
   "execution_count": 163,
   "metadata": {},
   "outputs": [
    {
     "name": "stdout",
     "output_type": "stream",
     "text": [
      "root\n",
      " |-- emp_no: integer (nullable = true)\n",
      " |-- birth_date: date (nullable = true)\n",
      " |-- first_name: string (nullable = true)\n",
      " |-- last_name: string (nullable = true)\n",
      " |-- gender: string (nullable = true)\n",
      " |-- hire_date: date (nullable = true)\n",
      "\n"
     ]
    }
   ],
   "source": [
    "df_mysql.printSchema()"
   ]
  },
  {
   "cell_type": "code",
   "execution_count": 165,
   "metadata": {},
   "outputs": [],
   "source": [
    "df_acimade2000 = df_mysql.filter(df_mysql.hire_date > '2000-01-01')"
   ]
  },
  {
   "cell_type": "code",
   "execution_count": 168,
   "metadata": {},
   "outputs": [],
   "source": [
    "df_acimade2000.write.csv('/base/analise/df_acimade2000')"
   ]
  },
  {
   "cell_type": "code",
   "execution_count": 174,
   "metadata": {},
   "outputs": [
    {
     "data": {
      "text/plain": [
       "DataFrame[emp_no: int, birth_date: date, first_name: string, last_name: string, gender: string, hire_date: date]"
      ]
     },
     "execution_count": 174,
     "metadata": {},
     "output_type": "execute_result"
    }
   ],
   "source": [
    "df_mysql.persist()"
   ]
  },
  {
   "cell_type": "code",
   "execution_count": 177,
   "metadata": {},
   "outputs": [
    {
     "data": {
      "text/plain": [
       "DataFrame[emp_no: int, birth_date: date, first_name: string, last_name: string, gender: string, hire_date: date]"
      ]
     },
     "execution_count": 177,
     "metadata": {},
     "output_type": "execute_result"
    }
   ],
   "source": [
    "df_mysql.unpersist()"
   ]
  },
  {
   "cell_type": "code",
   "execution_count": 178,
   "metadata": {},
   "outputs": [],
   "source": [
    "df_mysql.write.mode(\"overwrite\").format(\"hive\").saveAsTable(\"default.funcionario\")"
   ]
  },
  {
   "cell_type": "code",
   "execution_count": 175,
   "metadata": {},
   "outputs": [
    {
     "data": {
      "text/plain": [
       "300025"
      ]
     },
     "execution_count": 175,
     "metadata": {},
     "output_type": "execute_result"
    }
   ],
   "source": [
    "df_mysql.count()"
   ]
  },
  {
   "cell_type": "code",
   "execution_count": 180,
   "metadata": {},
   "outputs": [],
   "source": [
    "df_mysql.write.mode(\"append\").insertInto(\"default.funcionario\")"
   ]
  },
  {
   "cell_type": "code",
   "execution_count": 182,
   "metadata": {},
   "outputs": [],
   "source": [
    "hive = spark.table(\"default.funcionario\")"
   ]
  },
  {
   "cell_type": "code",
   "execution_count": 184,
   "metadata": {},
   "outputs": [],
   "source": [
    "hive = spark.sql(\"select * from default.funcionario\")"
   ]
  },
  {
   "cell_type": "code",
   "execution_count": 185,
   "metadata": {},
   "outputs": [
    {
     "name": "stdout",
     "output_type": "stream",
     "text": [
      "+------+----------+----------+-----------+------+----------+\n",
      "|emp_no|birth_date|first_name|  last_name|gender| hire_date|\n",
      "+------+----------+----------+-----------+------+----------+\n",
      "| 10001|1953-09-02|    Georgi|    Facello|     M|1986-06-26|\n",
      "| 10002|1964-06-02|   Bezalel|     Simmel|     F|1985-11-21|\n",
      "| 10003|1959-12-03|     Parto|    Bamford|     M|1986-08-28|\n",
      "| 10004|1954-05-01| Chirstian|    Koblick|     M|1986-12-01|\n",
      "| 10005|1955-01-21|   Kyoichi|   Maliniak|     M|1989-09-12|\n",
      "| 10006|1953-04-20|    Anneke|    Preusig|     F|1989-06-02|\n",
      "| 10007|1957-05-23|   Tzvetan|  Zielinski|     F|1989-02-10|\n",
      "| 10008|1958-02-19|    Saniya|   Kalloufi|     M|1994-09-15|\n",
      "| 10009|1952-04-19|    Sumant|       Peac|     F|1985-02-18|\n",
      "| 10010|1963-06-01| Duangkaew|   Piveteau|     F|1989-08-24|\n",
      "| 10011|1953-11-07|      Mary|      Sluis|     F|1990-01-22|\n",
      "| 10012|1960-10-04|  Patricio|  Bridgland|     M|1992-12-18|\n",
      "| 10013|1963-06-07| Eberhardt|     Terkki|     M|1985-10-20|\n",
      "| 10014|1956-02-12|     Berni|      Genin|     M|1987-03-11|\n",
      "| 10015|1959-08-19|  Guoxiang|  Nooteboom|     M|1987-07-02|\n",
      "| 10016|1961-05-02|  Kazuhito|Cappelletti|     M|1995-01-27|\n",
      "| 10017|1958-07-06| Cristinel|  Bouloucos|     F|1993-08-03|\n",
      "| 10018|1954-06-19|  Kazuhide|       Peha|     F|1987-04-03|\n",
      "| 10019|1953-01-23|   Lillian|    Haddadi|     M|1999-04-30|\n",
      "| 10020|1952-12-24|    Mayuko|    Warwick|     M|1991-01-26|\n",
      "+------+----------+----------+-----------+------+----------+\n",
      "only showing top 20 rows\n",
      "\n"
     ]
    }
   ],
   "source": [
    "hive.show()"
   ]
  },
  {
   "cell_type": "code",
   "execution_count": 187,
   "metadata": {},
   "outputs": [
    {
     "name": "stdout",
     "output_type": "stream",
     "text": [
      "+------+----------+----------+---------+------+----------+------+----------+----------+---------+------+----------+\n",
      "|emp_no|birth_date|first_name|last_name|gender| hire_date|emp_no|birth_date|first_name|last_name|gender| hire_date|\n",
      "+------+----------+----------+---------+------+----------+------+----------+----------+---------+------+----------+\n",
      "| 10206|1960-09-19|  Alassane|  Iwayama|     F|1988-04-19| 10206|1960-09-19|  Alassane|  Iwayama|     F|1988-04-19|\n",
      "| 10206|1960-09-19|  Alassane|  Iwayama|     F|1988-04-19| 10206|1960-09-19|  Alassane|  Iwayama|     F|1988-04-19|\n",
      "| 10362|1963-09-16|   Shalesh|  dAstous|     M|1988-08-24| 10362|1963-09-16|   Shalesh|  dAstous|     M|1988-08-24|\n",
      "| 10362|1963-09-16|   Shalesh|  dAstous|     M|1988-08-24| 10362|1963-09-16|   Shalesh|  dAstous|     M|1988-08-24|\n",
      "| 10623|1953-07-11|Aleksander|   Danlos|     F|1987-03-07| 10623|1953-07-11|Aleksander|   Danlos|     F|1987-03-07|\n",
      "| 10623|1953-07-11|Aleksander|   Danlos|     F|1987-03-07| 10623|1953-07-11|Aleksander|   Danlos|     F|1987-03-07|\n",
      "| 10817|1958-10-02|       Uri|  Rullman|     F|1990-12-26| 10817|1958-10-02|       Uri|  Rullman|     F|1990-12-26|\n",
      "| 10817|1958-10-02|       Uri|  Rullman|     F|1990-12-26| 10817|1958-10-02|       Uri|  Rullman|     F|1990-12-26|\n",
      "| 11033|1957-03-01|   Shushma|     Bahk|     F|1990-10-02| 11033|1957-03-01|   Shushma|     Bahk|     F|1990-10-02|\n",
      "| 11033|1957-03-01|   Shushma|     Bahk|     F|1990-10-02| 11033|1957-03-01|   Shushma|     Bahk|     F|1990-10-02|\n",
      "| 11141|1957-08-20|   Vasiliy|Kermarrec|     F|1989-12-28| 11141|1957-08-20|   Vasiliy|Kermarrec|     F|1989-12-28|\n",
      "| 11141|1957-08-20|   Vasiliy|Kermarrec|     F|1989-12-28| 11141|1957-08-20|   Vasiliy|Kermarrec|     F|1989-12-28|\n",
      "| 11317|1954-07-24|  Shigeaki| Hagimont|     F|1989-12-21| 11317|1954-07-24|  Shigeaki| Hagimont|     F|1989-12-21|\n",
      "| 11317|1954-07-24|  Shigeaki| Hagimont|     F|1989-12-21| 11317|1954-07-24|  Shigeaki| Hagimont|     F|1989-12-21|\n",
      "| 11458|1958-08-09|     Stevo|Chenoweth|     F|1985-10-06| 11458|1958-08-09|     Stevo|Chenoweth|     F|1985-10-06|\n",
      "| 11458|1958-08-09|     Stevo|Chenoweth|     F|1985-10-06| 11458|1958-08-09|     Stevo|Chenoweth|     F|1985-10-06|\n",
      "| 11748|1953-03-07|    Lihong| Massonet|     M|1992-12-20| 11748|1953-03-07|    Lihong| Massonet|     M|1992-12-20|\n",
      "| 11748|1953-03-07|    Lihong| Massonet|     M|1992-12-20| 11748|1953-03-07|    Lihong| Massonet|     M|1992-12-20|\n",
      "| 11858|1962-11-21|   Slavian|     Baik|     M|1988-11-12| 11858|1962-11-21|   Slavian|     Baik|     M|1988-11-12|\n",
      "| 11858|1962-11-21|   Slavian|     Baik|     M|1988-11-12| 11858|1962-11-21|   Slavian|     Baik|     M|1988-11-12|\n",
      "+------+----------+----------+---------+------+----------+------+----------+----------+---------+------+----------+\n",
      "only showing top 20 rows\n",
      "\n"
     ]
    }
   ],
   "source": [
    "df_mysql.join(hive,df_mysql.emp_no == hive.emp_no).show()"
   ]
  },
  {
   "cell_type": "code",
   "execution_count": 188,
   "metadata": {},
   "outputs": [],
   "source": [
    "df = spark.read.csv(\"/base/base.csv\",header=True)"
   ]
  },
  {
   "cell_type": "code",
   "execution_count": null,
   "metadata": {},
   "outputs": [],
   "source": [
    "df.write.mode(\"overwrite\").format(\"hive\").saveAsTable(\"default.df_teste\")"
   ]
  },
  {
   "cell_type": "code",
   "execution_count": 189,
   "metadata": {},
   "outputs": [],
   "source": []
  },
  {
   "cell_type": "code",
   "execution_count": null,
   "metadata": {},
   "outputs": [],
   "source": []
  },
  {
   "cell_type": "code",
   "execution_count": 190,
   "metadata": {},
   "outputs": [],
   "source": []
  },
  {
   "cell_type": "code",
   "execution_count": 191,
   "metadata": {},
   "outputs": [
    {
     "data": {
      "text/html": [
       "\n",
       "            <div>\n",
       "                <p><b>SparkSession - hive</b></p>\n",
       "                \n",
       "        <div>\n",
       "            <p><b>SparkContext</b></p>\n",
       "\n",
       "            <p><a href=\"http://jupyter-spark:4040\">Spark UI</a></p>\n",
       "\n",
       "            <dl>\n",
       "              <dt>Version</dt>\n",
       "                <dd><code>v2.4.1</code></dd>\n",
       "              <dt>Master</dt>\n",
       "                <dd><code>local[*]</code></dd>\n",
       "              <dt>AppName</dt>\n",
       "                <dd><code>pyspark-shell</code></dd>\n",
       "            </dl>\n",
       "        </div>\n",
       "        \n",
       "            </div>\n",
       "        "
      ],
      "text/plain": [
       "<pyspark.sql.session.SparkSession at 0x7f769e6a3fd0>"
      ]
     },
     "execution_count": 191,
     "metadata": {},
     "output_type": "execute_result"
    }
   ],
   "source": [
    "spark"
   ]
  },
  {
   "cell_type": "code",
   "execution_count": null,
   "metadata": {},
   "outputs": [],
   "source": []
  }
 ],
 "metadata": {
  "kernelspec": {
   "display_name": "PySpark",
   "language": "python",
   "name": "pyspark"
  },
  "language_info": {
   "codemirror_mode": {
    "name": "ipython",
    "version": 3
   },
   "file_extension": ".py",
   "mimetype": "text/x-python",
   "name": "python",
   "nbconvert_exporter": "python",
   "pygments_lexer": "ipython3",
   "version": "3.6.10"
  }
 },
 "nbformat": 4,
 "nbformat_minor": 2
}
